{
 "cells": [
  {
   "cell_type": "markdown",
   "metadata": {},
   "source": [
    "# 2024 - 12 - 23"
   ]
  },
  {
   "cell_type": "markdown",
   "metadata": {},
   "source": [
    "### 복습"
   ]
  },
  {
   "cell_type": "code",
   "execution_count": 1,
   "metadata": {},
   "outputs": [
    {
     "name": "stdout",
     "output_type": "stream",
     "text": [
      "10 10 30 hello 35\n"
     ]
    }
   ],
   "source": [
    "a = b = 10\n",
    "c , d = 30, 'hello'\n",
    "e = 35\n",
    "print(a,b,c,d,e)"
   ]
  },
  {
   "cell_type": "code",
   "execution_count": 13,
   "metadata": {},
   "outputs": [
    {
     "name": "stdout",
     "output_type": "stream",
     "text": [
      "['닥터 스트레인지', '스플릿', '럭키', '배트맨']\n",
      "['닥터 스트레인지', '수퍼맨', '스플릿', '럭키', '배트맨']\n",
      "['닥터 스트레인지', '수퍼맨', '스플릿', '배트맨']\n",
      "['닥터 스트레인지', '수퍼맨']\n"
     ]
    }
   ],
   "source": [
    "move_rank = ['닥터 스트레인지','스플릿','럭키']\n",
    "move_rank.append('배트맨')\n",
    "print(move_rank)\n",
    "move_rank.insert(1,'수퍼맨')\n",
    "print(move_rank)\n",
    "move_rank.pop(3)\n",
    "print(move_rank)\n",
    "del(move_rank[2:])\n",
    "\n",
    "print(move_rank)"
   ]
  },
  {
   "cell_type": "code",
   "execution_count": 14,
   "metadata": {},
   "outputs": [
    {
     "name": "stdout",
     "output_type": "stream",
     "text": [
      "apple banana cake\n"
     ]
    }
   ],
   "source": [
    "temp = ('apple', 'banana', 'cake')\n",
    "a,b,c = temp\n",
    "print(a,b,c)"
   ]
  },
  {
   "cell_type": "code",
   "execution_count": 17,
   "metadata": {},
   "outputs": [
    {
     "name": "stdout",
     "output_type": "stream",
     "text": [
      "010 1234 5678\n",
      "010\n",
      "1234\n"
     ]
    }
   ],
   "source": [
    "phone_number = '010-1234-5678'\n",
    "phone_number1 = phone_number.replace('-',' ')\n",
    "print(phone_number1)\n",
    "phone1,phone2,phone3 = phone_number.split('-')\n",
    "print(phone1)\n",
    "print(phone2)"
   ]
  },
  {
   "cell_type": "code",
   "execution_count": 21,
   "metadata": {},
   "outputs": [
    {
     "name": "stdout",
     "output_type": "stream",
     "text": [
      "<class 'str'> <class 'str'> <class 'int'>\n",
      "name = 이, height = 129, age = 20\n"
     ]
    }
   ],
   "source": [
    "a,b,c = input('이름, 키, 나이를 입력하세요').split(' ')\n",
    "b = float(b)\n",
    "c = int(c)\n",
    "print(type(a),type(b),type(c))\n",
    "print(f'name = {a}, height = {b}, age = {c}')"
   ]
  },
  {
   "cell_type": "code",
   "execution_count": 1,
   "metadata": {},
   "outputs": [
    {
     "name": "stdout",
     "output_type": "stream",
     "text": [
      "50620\n",
      "dict_values([34000, 12000, 1200, 0, 3420])\n",
      "50620\n"
     ]
    }
   ],
   "source": [
    "d = {'kim' : 34000,'lee':12000,'park':1200,'lew':0,'song':3420}\n",
    "s = 0\n",
    "for i in d.values():\n",
    "    s += i\n",
    "print(s)\n",
    "\n",
    "print(sum(d.values()))\n"
   ]
  },
  {
   "cell_type": "code",
   "execution_count": 5,
   "metadata": {},
   "outputs": [
    {
     "data": {
      "text/plain": [
       "['a', 'b', 'c', 'd']"
      ]
     },
     "execution_count": 5,
     "metadata": {},
     "output_type": "execute_result"
    }
   ],
   "source": [
    "def make_list(string):\n",
    "    return list(string)\n",
    "make_list('abcd')"
   ]
  },
  {
   "cell_type": "markdown",
   "metadata": {},
   "source": [
    "### return\n",
    "함수의 종료\n",
    "\n",
    "함수는 함수 블록이 끝나거나 return 문을 만나면 종료\n",
    "\n",
    "return 문은 함수 블록 어디에도 올 수 있고 여러 번 있어도 됨"
   ]
  },
  {
   "cell_type": "markdown",
   "metadata": {},
   "source": [
    "### 매개변수 초기화"
   ]
  },
  {
   "cell_type": "code",
   "execution_count": 10,
   "metadata": {},
   "outputs": [
    {
     "name": "stdout",
     "output_type": "stream",
     "text": [
      "나의 이름은 홍원 입니다\n",
      "나의 나이는 25 입니다\n",
      "남자입니다\n",
      "**************\n",
      "나의 이름은 홍원 입니다\n",
      "나의 나이는 25 입니다\n",
      "여자입니다\n"
     ]
    }
   ],
   "source": [
    "def say_myself(name, age, man=True):\n",
    "    print('나의 이름은 %s 입니다'%name)\n",
    "    print('나의 나이는 %d 입니다'%age)\n",
    "    if man:\n",
    "        print('남자입니다')\n",
    "    else:\n",
    "        print('여자입니다')\n",
    "\n",
    "say_myself('홍원',25)\n",
    "print('**************')\n",
    "say_myself('홍원',25,man = 0)"
   ]
  },
  {
   "cell_type": "markdown",
   "metadata": {},
   "source": [
    "### 함수와 변수의 효력 범위"
   ]
  },
  {
   "cell_type": "markdown",
   "metadata": {},
   "source": [
    "#### 1. return문 사용"
   ]
  },
  {
   "cell_type": "code",
   "execution_count": 16,
   "metadata": {},
   "outputs": [
    {
     "name": "stdout",
     "output_type": "stream",
     "text": [
      "2\n",
      "1\n"
     ]
    }
   ],
   "source": [
    "a = 1\n",
    "def vartest(a):\n",
    "    a = a + 1\n",
    "    return a        ##return문을 추가해줘야함\n",
    "print(vartest(a))\n",
    "print(a)"
   ]
  },
  {
   "cell_type": "markdown",
   "metadata": {},
   "source": [
    "### 2. global 변수 사용"
   ]
  },
  {
   "cell_type": "code",
   "execution_count": 26,
   "metadata": {},
   "outputs": [
    {
     "name": "stdout",
     "output_type": "stream",
     "text": [
      "2\n"
     ]
    }
   ],
   "source": [
    "a = 1\n",
    "def vartest():\n",
    "    global a\n",
    "    a = a + 1\n",
    "vartest()\n",
    "print(a)"
   ]
  },
  {
   "cell_type": "markdown",
   "metadata": {},
   "source": [
    "## 내장 함수를 활용한 예제"
   ]
  },
  {
   "cell_type": "markdown",
   "metadata": {},
   "source": [
    "## 1. map 함수\n",
    "\n",
    "#### map(function, iterable)\n",
    "\n",
    "function에 iterable의 item들을 인자로 전덜하여 실행\n",
    "\n",
    "function의 parameter 수 만큼 iterable이 전달되어야함\n",
    "\n",
    "결과는 map 타입\n",
    "\n",
    "iterable이 배열이라면 배열을 순회하면서 function에 넣음"
   ]
  },
  {
   "cell_type": "markdown",
   "metadata": {},
   "source": [
    "#### map 함수 예제 1 (리스트의 값을 1씩 더하기)"
   ]
  },
  {
   "cell_type": "code",
   "execution_count": 31,
   "metadata": {},
   "outputs": [
    {
     "name": "stdout",
     "output_type": "stream",
     "text": [
      "[2, 3, 4, 5, 6]\n",
      "[2, 3, 4, 5, 6]\n"
     ]
    }
   ],
   "source": [
    "\n",
    "myList = [1,2,3,4,5]\n",
    "def add_one(n):\n",
    "    return n+1\n",
    "\n",
    "########## for문 사용#########\n",
    "result1 = []\n",
    "for val in myList:\n",
    "    a = add_one(val)\n",
    "    result1.append(a)\n",
    "print(result1)\n",
    "\n",
    "########## map 함수 사용#########\n",
    "\n",
    "result2 = list(map(add_one,myList))\n",
    "print(result2)"
   ]
  },
  {
   "cell_type": "markdown",
   "metadata": {},
   "source": [
    "#### map 함수 예제 2 (실수를 정수화)"
   ]
  },
  {
   "cell_type": "code",
   "execution_count": 33,
   "metadata": {},
   "outputs": [
    {
     "name": "stdout",
     "output_type": "stream",
     "text": [
      "(3, -6, 100, 26)\n"
     ]
    }
   ],
   "source": [
    "f = (3.14, -5.626, 100.4, 25.8)\n",
    "def round_f(n):\n",
    "    return round(n)\n",
    "result = tuple(map(round_f,f))\n",
    "print(result)\n"
   ]
  },
  {
   "cell_type": "markdown",
   "metadata": {},
   "source": [
    "## 2. zip 함수\n",
    "\n",
    "### zip(*iterable)\n",
    "\n",
    "각 iterable의 동일 인덱스의 item들을 튜플 쌍으로 변환\n",
    "\n",
    "결과는 zip 타입이며 iterable들의 길이는 달라도 무방"
   ]
  },
  {
   "cell_type": "code",
   "execution_count": 35,
   "metadata": {},
   "outputs": [
    {
     "name": "stdout",
     "output_type": "stream",
     "text": [
      "[(52, 19, 0), (255, 63, 68), (39, 227, 255), (132, 197, 187)]\n"
     ]
    }
   ],
   "source": [
    "r = (52,255,39,132)\n",
    "g = (19,63,227,197)\n",
    "b = (0,68,255,187)\n",
    "img = list(zip(r,g,b))\n",
    "print(img)"
   ]
  },
  {
   "cell_type": "markdown",
   "metadata": {},
   "source": [
    "## 3. enumerate 함수\n",
    "### enumerate(iterable [, start = 0])\n",
    "\n",
    "start는 시작 번호(생략 시 0)이며 결과는 enumerate 타입\n",
    "\n",
    "item들의 번호를 부여하여 (idx, value)의 튜플 쌍을 생성"
   ]
  },
  {
   "cell_type": "code",
   "execution_count": 38,
   "metadata": {},
   "outputs": [
    {
     "name": "stdout",
     "output_type": "stream",
     "text": [
      "{1: 'apple', 2: 'orange', 3: 'banana', 4: 'mango'}\n"
     ]
    }
   ],
   "source": [
    "f = ('apple', 'orange','banana','mango')\n",
    "tag = dict(enumerate(f,1))\n",
    "print(tag)"
   ]
  },
  {
   "cell_type": "markdown",
   "metadata": {},
   "source": [
    "## 4. filter함수\n",
    "### filter(function,iterable)\n",
    "\n",
    "filter에 지정한 함수의 반환값이 True일 때만 해당 요소를 가져옴"
   ]
  },
  {
   "cell_type": "code",
   "execution_count": 40,
   "metadata": {},
   "outputs": [
    {
     "name": "stdout",
     "output_type": "stream",
     "text": [
      "[8, 7, 9]\n"
     ]
    }
   ],
   "source": [
    "def f(x):\n",
    "    if x <= 9 and x >= 7:\n",
    "        return True\n",
    "    else :\n",
    "        return False\n",
    "a = [8, 3, 2, 10, 15, 7, 1, 9, 0, 11]\n",
    "print(list(filter(f,a)))"
   ]
  },
  {
   "cell_type": "markdown",
   "metadata": {},
   "source": [
    "## 5. 람다함수(익명함수)\n",
    "\n",
    "이름이 없는 함수\n",
    "\n",
    "장점 - 코드의 간결함, 메모리의 절약\n",
    "#### lambda 매개변수 : 결과\n",
    "#### ex) lambda x : x + 1"
   ]
  },
  {
   "cell_type": "code",
   "execution_count": 3,
   "metadata": {},
   "outputs": [
    {
     "name": "stdout",
     "output_type": "stream",
     "text": [
      "[2, 3, 4, 5, 6]\n"
     ]
    }
   ],
   "source": [
    "myList = [1,2,3,4,5]\n",
    "\n",
    "result2 = list(map(lambda x : x + 1,myList))\n",
    "print(result2)"
   ]
  },
  {
   "cell_type": "markdown",
   "metadata": {},
   "source": [
    "#### 람다 함수를 사용하는 이유\n",
    "1. 코드 가독성을 높이기 위한 짧은 함수 정의\n",
    "2. 함수를 한번만 사용하고 버릴때\n",
    "3. 익명 함수가 필요할 때"
   ]
  },
  {
   "cell_type": "code",
   "execution_count": 4,
   "metadata": {},
   "outputs": [
    {
     "name": "stdout",
     "output_type": "stream",
     "text": [
      "5\n"
     ]
    }
   ],
   "source": [
    "f = lambda x, y : x + y         #변수 할당도 가능\n",
    "print(f(2,3))"
   ]
  },
  {
   "cell_type": "code",
   "execution_count": 5,
   "metadata": {},
   "outputs": [
    {
     "name": "stdout",
     "output_type": "stream",
     "text": [
      "[1, 4, 9, 16]\n"
     ]
    }
   ],
   "source": [
    "numbers = [1,2,3,4]\n",
    "squared = list(map(lambda x : x**2,numbers))\n",
    "\n",
    "print(squared)"
   ]
  },
  {
   "cell_type": "code",
   "execution_count": 14,
   "metadata": {},
   "outputs": [
    {
     "name": "stdout",
     "output_type": "stream",
     "text": [
      "[2, 4]\n"
     ]
    }
   ],
   "source": [
    "numbers = [1,2,3,4,5]\n",
    "def num3(x):\n",
    "    return x % 2 == 0\n",
    "result = list(filter(lambda x : x % 2 == 0,numbers))\n",
    "print(result)\n"
   ]
  },
  {
   "cell_type": "markdown",
   "metadata": {},
   "source": [
    "### sorted() 함수\n",
    "### sorted(iterable,key = None, reverse = False)\n",
    "정렬"
   ]
  },
  {
   "cell_type": "code",
   "execution_count": 11,
   "metadata": {},
   "outputs": [
    {
     "name": "stdout",
     "output_type": "stream",
     "text": [
      "[1, 2, 3, 4, 5]\n",
      "[(3, 4), (1, 2), (5, 1)]\n"
     ]
    }
   ],
   "source": [
    "a = [1,4,5,2,3]\n",
    "print(sorted(a))\n",
    "\n",
    "points = [(1,2),(3,4),(5,1)]\n",
    "\n",
    "sorted_points = list(sorted(points, key = lambda x : x [1]))    #정렬\n",
    "print(sorted_points)"
   ]
  },
  {
   "cell_type": "code",
   "execution_count": 17,
   "metadata": {},
   "outputs": [
    {
     "name": "stdout",
     "output_type": "stream",
     "text": [
      "['applemint', 'banana', 'cherry']\n",
      "['cherry', 'banana', 'applemint']\n"
     ]
    }
   ],
   "source": [
    "a = ['applemint','cherry','banana']\n",
    "new_a = sorted(a)               #앞글자 알파벳 오름차순\n",
    "new_b = sorted(a,key = len)     #길이로 오름차순\n",
    "print(new_a)\n",
    "print(new_b)"
   ]
  },
  {
   "cell_type": "code",
   "execution_count": 23,
   "metadata": {},
   "outputs": [
    {
     "name": "stdout",
     "output_type": "stream",
     "text": [
      "[1, 2, 3]\n",
      "[(2, 'b'), (3, 'c'), (1, 'd')]\n"
     ]
    }
   ],
   "source": [
    "my_dict = {3: 'c', 1 : 'd', 2 : 'b'}\n",
    "new_dict_1 = sorted(my_dict)\n",
    "new_dict_2 = sorted(my_dict.items(),key = lambda x : x[1])\n",
    "print(new_dict_1)\n",
    "print(new_dict_2)\n"
   ]
  },
  {
   "cell_type": "markdown",
   "metadata": {},
   "source": [
    "# 모듈(module)\n",
    "\n",
    "#### 파이썬 코드로 이루어진 파일\n",
    "#### 함수나 변수, 클래스 등의 코드가 들어있음\n",
    "#### 직접 만들거나(사용자 정의 모듈)\n",
    "#### 다른 사람이 만들어 놓은 모듈을 가져와 사용\n",
    "\n",
    "## 사용법\n",
    "#### import 모듈명                      \n",
    "#### from 모듈명 import 이름(함수명 / 클래스명)    \n",
    "#### import 모듈명 as 이름(별명)\n",
    "#### from 모듈명 import 이름(함수명 / 클래스명) as 이름(별명)"
   ]
  },
  {
   "cell_type": "markdown",
   "metadata": {},
   "source": [
    "## 패키지\n",
    "##### 관련 있는 모듈의 집합\n",
    "##### 모듈을 담는 디렉토리\n",
    "##### 파이썬 모듈을 계층적인 디렉토리 구조로 관리할 수 있게 함"
   ]
  },
  {
   "cell_type": "code",
   "execution_count": 26,
   "metadata": {},
   "outputs": [
    {
     "name": "stdout",
     "output_type": "stream",
     "text": [
      "8.0\n",
      "3.0\n"
     ]
    }
   ],
   "source": [
    "import math as m\n",
    "print(m.pow(2,3))\n",
    "print(m.sqrt(9))"
   ]
  },
  {
   "cell_type": "code",
   "execution_count": 27,
   "metadata": {},
   "outputs": [
    {
     "name": "stdout",
     "output_type": "stream",
     "text": [
      "8.0\n"
     ]
    }
   ],
   "source": [
    "from math import pow\n",
    "print(pow(2,3))"
   ]
  },
  {
   "cell_type": "markdown",
   "metadata": {},
   "source": [
    "#### 로또 번호 추첨기"
   ]
  },
  {
   "cell_type": "code",
   "execution_count": 34,
   "metadata": {},
   "outputs": [
    {
     "name": "stdout",
     "output_type": "stream",
     "text": [
      "[39, 36, 25, 1, 32, 14]\n"
     ]
    }
   ],
   "source": [
    "import random\n",
    "li = []\n",
    "i = 0\n",
    "while True:\n",
    "    re = random.randint(1,45)\n",
    "    if re not in li:\n",
    "        li.append(re)\n",
    "        i += 1\n",
    "    if len(li) == 6:\n",
    "        break\n",
    "print(li)"
   ]
  },
  {
   "cell_type": "markdown",
   "metadata": {},
   "source": [
    "#### 업그레이드 문제 (가위 바위 보 게임)"
   ]
  },
  {
   "cell_type": "code",
   "execution_count": 37,
   "metadata": {},
   "outputs": [
    {
     "name": "stdout",
     "output_type": "stream",
     "text": [
      "컴퓨터 승\n",
      "유저 승\n"
     ]
    }
   ],
   "source": [
    "def checkWin(user,com):\n",
    "    if user == com:\n",
    "        print('비겼음')\n",
    "    elif user == '가위' and com == '바위':\n",
    "        print('컴퓨터 승')\n",
    "    elif user == '가위' and com == '보':\n",
    "        print('유저 승')\n",
    "    elif user == '바위' and com == '가위':\n",
    "        print('유저 승')\n",
    "    elif user == '바위' and com == '보':\n",
    "        print('컴퓨터 승')\n",
    "    return True\n",
    "\n",
    "def continueComfirm():\n",
    "    n = input('계속하시겠습니까? (y/n) : ')\n",
    "    if n ==  'y':\n",
    "        return True\n",
    "    else:\n",
    "        return False\n",
    "sel = ['가위','바위','보']\n",
    "while True:\n",
    "    user = input('가위, 바위, 보 : ')\n",
    "    com = sel[random.randint(0,2)]\n",
    "    if checkWin(user,com):\n",
    "        if continueComfirm():\n",
    "            continue\n",
    "        else:\n",
    "            break\n"
   ]
  },
  {
   "cell_type": "markdown",
   "metadata": {},
   "source": [
    "# 클래스(class)\n",
    "#### 객체 지향의 가장 기본적인 개념이며 객체를 표현하기 위한 문법\n",
    "#### 사물의 속성은 변수, 동작은 함수(method)로 표현\n",
    "\n",
    "#### 멤버(member) : 클래스를 구성하는 변수와 함수\n",
    "#### 메소드(method) : 클래스에 속한 함수"
   ]
  },
  {
   "attachments": {
    "image.png": {
     "image/png": "[encoded data removed]"
    }
   },
   "cell_type": "markdown",
   "metadata": {},
   "source": [
    "## 클래스(class)\n",
    "#### 같은 것을 만들어 낼 수 있는 틀, 설계도 (쿠키 틀)\n",
    "\n",
    "## 객체(object)\n",
    "#### 클래스에서 찍어낸 형태 (쿠키)\n",
    "![image.png](attachment:image.png)"
   ]
  },
  {
   "cell_type": "code",
   "execution_count": 43,
   "metadata": {},
   "outputs": [
    {
     "name": "stdout",
     "output_type": "stream",
     "text": [
      "초코 is barking\n",
      "초코 is barking\n",
      "초코\n",
      "뽀삐 is barking\n",
      "뽀삐 is barking\n",
      "뽀삐\n"
     ]
    }
   ],
   "source": [
    "###########클래스 선언 형식###########\n",
    "class Dog:\n",
    "    species = 'Doberman'\n",
    "\n",
    "    def __init__(self,name,age):\n",
    "        self.name = name\n",
    "        self.age = age\n",
    "\n",
    "    def bark(self):\n",
    "        return f'{self.name} is barking'\n",
    "    \n",
    "dog1 = Dog('초코',3)\n",
    "dog2 = Dog('뽀삐',2)\n",
    "print(dog1.bark())\n",
    "print(dog1.name)\n",
    "print(dog2.bark())\n",
    "print(dog2.name)"
   ]
  },
  {
   "cell_type": "code",
   "execution_count": 44,
   "metadata": {},
   "outputs": [
    {
     "name": "stdout",
     "output_type": "stream",
     "text": [
      "3\n",
      "7\n",
      "3\n",
      "10\n"
     ]
    }
   ],
   "source": [
    "class Calculator:\n",
    "    def __init__(self):\n",
    "        self.result = 0\n",
    "    def add(self,num):\n",
    "        self.result += num\n",
    "        return self.result\n",
    "    \n",
    "cal1 = Calculator()\n",
    "cal2 = Calculator()\n",
    "\n",
    "print(cal1.add(3))\n",
    "print(cal1.add(4))\n",
    "print(cal2.add(3))\n",
    "print(cal2.add(7))\n"
   ]
  },
  {
   "cell_type": "markdown",
   "metadata": {},
   "source": [
    "#### 계산기 만들기(class)"
   ]
  },
  {
   "cell_type": "code",
   "execution_count": 46,
   "metadata": {},
   "outputs": [
    {
     "name": "stdout",
     "output_type": "stream",
     "text": [
      "7\n",
      "3\n",
      "10\n",
      "4\n",
      "21\n",
      "2.3333333333333335\n"
     ]
    }
   ],
   "source": [
    "class FourCal:\n",
    "    def __init__(self,num1, num2):\n",
    "        self.num1 = num1\n",
    "        self.num2 = num2\n",
    "    def add(self):\n",
    "        return self.num1 + self.num2\n",
    "    def sub(self):\n",
    "        return self.num1 - self.num2\n",
    "    def mul(self):\n",
    "        return self.num1 * self.num2\n",
    "    def div(self):\n",
    "        return self.num1 / self.num2\n",
    "    \n",
    "cal1 = FourCal(7,3)\n",
    "print(cal1.num1)\n",
    "print(cal1.num2)\n",
    "print(cal1.add())\n",
    "print(cal1.sub())\n",
    "print(cal1.mul())\n",
    "print(cal1.div())"
   ]
  },
  {
   "cell_type": "markdown",
   "metadata": {},
   "source": [
    "#### 상속을 사용하여 계산기.v2 만들기"
   ]
  },
  {
   "cell_type": "code",
   "execution_count": 47,
   "metadata": {},
   "outputs": [
    {
     "name": "stdout",
     "output_type": "stream",
     "text": [
      "6\n",
      "16\n"
     ]
    }
   ],
   "source": [
    "class AdvancedFourCal(FourCal):\n",
    "    def pow(self):\n",
    "        return self.num1 ** self.num2\n",
    "c = AdvancedFourCal(4,2)\n",
    "print(c.add())\n",
    "print(c.pow())\n",
    "    "
   ]
  },
  {
   "cell_type": "markdown",
   "metadata": {},
   "source": [
    "### method overriding"
   ]
  },
  {
   "cell_type": "code",
   "execution_count": 50,
   "metadata": {},
   "outputs": [
    {
     "name": "stdout",
     "output_type": "stream",
     "text": [
      "0\n"
     ]
    }
   ],
   "source": [
    "class SafeFourCal(FourCal):\n",
    "    def div(self):\n",
    "        if self.num2 == 0:\n",
    "            return 0\n",
    "        else:\n",
    "            return self.num1 / self.num2\n",
    "d = SafeFourCal(5,0)\n",
    "print(d.div())"
   ]
  },
  {
   "cell_type": "code",
   "execution_count": null,
   "metadata": {},
   "outputs": [],
   "source": []
  }
 ],
 "metadata": {
  "kernelspec": {
   "display_name": "Python 3",
   "language": "python",
   "name": "python3"
  },
  "language_info": {
   "codemirror_mode": {
    "name": "ipython",
    "version": 3
   },
   "file_extension": ".py",
   "mimetype": "text/x-python",
   "name": "python",
   "nbconvert_exporter": "python",
   "pygments_lexer": "ipython3",
   "version": "3.13.1"
  }
 },
 "nbformat": 4,
 "nbformat_minor": 2
}
