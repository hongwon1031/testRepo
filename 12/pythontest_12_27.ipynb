{
 "cells": [
  {
   "cell_type": "markdown",
   "metadata": {},
   "source": [
    "# 2024 - 12 - 27"
   ]
  },
  {
   "cell_type": "code",
   "execution_count": 4,
   "metadata": {},
   "outputs": [
    {
     "name": "stdout",
     "output_type": "stream",
     "text": [
      "success\n",
      "hello\n"
     ]
    }
   ],
   "source": [
    "score = 70\n",
    "if score >= 60:\n",
    "    message = 'success'\n",
    "else:\n",
    "    message = 'failure'\n",
    "print(message)\n",
    "\n",
    "score = 50\n",
    "message = 'hi' if score >= 60 else 'hello'\n",
    "print(message)"
   ]
  },
  {
   "cell_type": "markdown",
   "metadata": {},
   "source": [
    "## 리스트 컴프리헨션\n",
    "### [표현식 for 항목 in iterable]\n",
    "### 표현식 : 각 항목을 처리한 후 생성할 값을 지정\n",
    "### for 항목 in iterable : 반복할 대상(iterable, 예 : 리스트, 문자열 등)"
   ]
  },
  {
   "cell_type": "code",
   "execution_count": 5,
   "metadata": {},
   "outputs": [
    {
     "name": "stdout",
     "output_type": "stream",
     "text": [
      "[1, 4, 9, 16]\n",
      "[1, 4, 9, 16]\n"
     ]
    }
   ],
   "source": [
    "numbers = [1,2,3,4]\n",
    "squares1 = []\n",
    "for x in numbers:\n",
    "    squares1.append(x**2)\n",
    "print(squares1)\n",
    "squares2 = [x**2 for x in numbers]\n",
    "print(squares2)"
   ]
  },
  {
   "cell_type": "code",
   "execution_count": 16,
   "metadata": {},
   "outputs": [
    {
     "name": "stdout",
     "output_type": "stream",
     "text": [
      "[4, 16, 36]\n"
     ]
    }
   ],
   "source": [
    "numbers = [1,2,3,4,5,6,7]\n",
    "even_numbers = []\n",
    "even_numbers = [x for x in numbers  if x % 2 == 0 ]\n",
    "print(even_numbers)"
   ]
  },
  {
   "cell_type": "markdown",
   "metadata": {},
   "source": [
    "# 넘파이(Numpy)\n",
    "#### python 리스트에는 배열에 실제 데이터의 주소가 담겨있음 (속도 느림)\n",
    "#### numpy 배열은 실제 데이터가 배열에 들어있음 (속도 빠름,대규모 연산 유용)"
   ]
  },
  {
   "cell_type": "code",
   "execution_count": 37,
   "metadata": {},
   "outputs": [
    {
     "name": "stdout",
     "output_type": "stream",
     "text": [
      "[[1 2 3]\n",
      " [4 5 6]\n",
      " [7 8 9]]\n",
      "[0 1 2 3 4 5 6 7 8 9]\n",
      "(3, 3)\n",
      "2\n",
      "[[1 2 3 4 5 6 7 8 9]]\n"
     ]
    }
   ],
   "source": [
    "import numpy as np\n",
    "list = [[1,2,3],[4,5,6],[7,8,9]]\n",
    "a = np.array(list)\n",
    "b = np.arange(0,10)\n",
    "print(a)\n",
    "print(b)\n",
    "print(a.shape)      #크기\n",
    "print(a.ndim)       #차원\n",
    "c = a.reshape(1,-1)\n",
    "print(c)"
   ]
  },
  {
   "cell_type": "markdown",
   "metadata": {},
   "source": [
    "### numpy 배열의 shape이 같다면 사칙연산 가능"
   ]
  },
  {
   "cell_type": "code",
   "execution_count": 39,
   "metadata": {},
   "outputs": [
    {
     "name": "stdout",
     "output_type": "stream",
     "text": [
      "[5 7 9]\n",
      "[-3 -3 -3]\n",
      "[ 4 10 18]\n",
      "[0.25 0.4  0.5 ]\n"
     ]
    }
   ],
   "source": [
    "a = np.array([1,2,3])\n",
    "b = np.array([4,5,6])\n",
    "print(a + b)\n",
    "print(a - b)\n",
    "print(a * b)\n",
    "print(a / b)"
   ]
  },
  {
   "cell_type": "code",
   "execution_count": 50,
   "metadata": {},
   "outputs": [
    {
     "name": "stdout",
     "output_type": "stream",
     "text": [
      "[[0. 0. 0.]\n",
      " [0. 0. 0.]\n",
      " [0. 0. 0.]]\n",
      "[[1. 1. 1.]\n",
      " [1. 1. 1.]\n",
      " [1. 1. 1.]]\n",
      "[[1. 0. 0.]\n",
      " [0. 1. 0.]\n",
      " [0. 0. 1.]]\n"
     ]
    }
   ],
   "source": [
    "a = np.zeros([3,3])\n",
    "b = np.ones([3,3])\n",
    "c = np.eye(3)\n",
    "print(a); print(b); print(c)"
   ]
  },
  {
   "cell_type": "code",
   "execution_count": 54,
   "metadata": {},
   "outputs": [
    {
     "name": "stdout",
     "output_type": "stream",
     "text": [
      "['1' '2' '3']\n",
      "[1.  2.2 3. ]\n",
      "(3,)\n",
      "(3,)\n",
      "<class 'numpy.ndarray'>\n",
      "<class 'numpy.ndarray'>\n"
     ]
    }
   ],
   "source": [
    "list_data_1 = [1,'2',3]\n",
    "list_data_2 = [1, 2, 3]\n",
    "arr_1 = np.array(list_data_1)\n",
    "arr_2 = np.array(list_data_2)\n",
    "print(arr_1)\n",
    "print(arr_2)\n",
    "print(arr_1.shape)\n",
    "print(arr_2.shape)\n",
    "print(type(arr_1))\n",
    "print(type(arr_2))"
   ]
  },
  {
   "cell_type": "code",
   "execution_count": 59,
   "metadata": {},
   "outputs": [
    {
     "data": {
      "text/plain": [
       "array([[0, 0, 0, 0],\n",
       "       [0, 0, 0, 0]])"
      ]
     },
     "execution_count": 59,
     "metadata": {},
     "output_type": "execute_result"
    }
   ],
   "source": [
    "np.zeros([2,4],dtype = int)"
   ]
  },
  {
   "cell_type": "code",
   "execution_count": 84,
   "metadata": {},
   "outputs": [
    {
     "name": "stdout",
     "output_type": "stream",
     "text": [
      "[[[ 1  2  3  4]\n",
      "  [ 5  6  7  8]]\n",
      "\n",
      " [[ 9 10 11 12]\n",
      "  [13 14 15 16]]\n",
      "\n",
      " [[17 18 19 20]\n",
      "  [21 22 23 24]]]\n",
      "3\n",
      "(3, 2, 4)\n",
      "\n",
      "\n",
      "[[[ 1  2  3  4  5  6  7  8  9 10 11 12]\n",
      "  [13 14 15 16 17 18 19 20 21 22 23 24]]]\n"
     ]
    }
   ],
   "source": [
    "arr = np.array([[[1,2,3,4],[5,6,7,8]],[[9,10,11,12],[13,14,15,16]],[[17,18,19,20],[21,22,23,24]]])\n",
    "print(arr)\n",
    "print(arr.ndim)\n",
    "print(arr.shape)\n",
    "print('\\n')\n",
    "arr = np.reshape(arr,(1,2,-1))\n",
    "print(arr)"
   ]
  },
  {
   "cell_type": "code",
   "execution_count": 86,
   "metadata": {},
   "outputs": [
    {
     "name": "stdout",
     "output_type": "stream",
     "text": [
      "[1, 2, 3, 1, 2, 3, 1, 2, 3]\n",
      "[3 6 9]\n"
     ]
    }
   ],
   "source": [
    "a = [1,2,3]\n",
    "b = np.array([1,2,3])\n",
    "print(a*3)\n",
    "print(b*3)"
   ]
  },
  {
   "cell_type": "code",
   "execution_count": 102,
   "metadata": {},
   "outputs": [
    {
     "name": "stdout",
     "output_type": "stream",
     "text": [
      "[0, 2, 4, 6, 8, 10, 12, 14, 16, 18]\n",
      "[0, 2, 4, 6, 8, 10, 12, 14, 16, 18]\n",
      "[ 0  2  4  6  8 10 12 14 16 18]\n",
      "1 3 10\n",
      "3 (1, 3, 10) 30\n"
     ]
    }
   ],
   "source": [
    "###################리스트 for문 사용###############\n",
    "data_1 = [[[0,1,2,3,4,5,6,7,8,9],[[0,1,2,3,4,5,6,7,8,9]],[0,1,2,3,4,5,6,7,8,9]]]\n",
    "data_2 = np.array([[[0,1,2,3,4,5,6,7,8,9],[0,1,2,3,4,5,6,7,8,9],[0,1,2,3,4,5,6,7,8,9]]])\n",
    "data = [0,1,2,3,4,5,6,7,8,9]\n",
    "a = []\n",
    "for i in data:\n",
    "    a.append(i*2)\n",
    "print(a)\n",
    "###################리스트 컴프리헨션 사용###############\n",
    "li = [i*2 for i in data]\n",
    "print(li)\n",
    "###################array 사용###############\n",
    "arr = np.array(data)\n",
    "print(arr*2)\n",
    "\n",
    "print(len(data_1),len(data_1[0]),len(data_1[0][0]))\n",
    "print(data_2.ndim,data_2.shape,data_2.size)"
   ]
  },
  {
   "cell_type": "code",
   "execution_count": 109,
   "metadata": {},
   "outputs": [
    {
     "name": "stdout",
     "output_type": "stream",
     "text": [
      "2\n",
      "4 \n",
      "\n",
      "0\n",
      "1\n",
      "5\n"
     ]
    }
   ],
   "source": [
    "a = np.array([0,1,2,3,4])\n",
    "print(a[2])\n",
    "print(a[-1],'\\n')\n",
    "b = np.array([[0,1,2],[3,4,5]])\n",
    "print(b[0, 0])\n",
    "print(b[0, 1])\n",
    "print(b[1, -1])"
   ]
  },
  {
   "cell_type": "code",
   "execution_count": 122,
   "metadata": {},
   "outputs": [
    {
     "name": "stdout",
     "output_type": "stream",
     "text": [
      "\n",
      "[5 6 7]\n",
      "[[0 1]\n",
      " [4 5]]\n"
     ]
    }
   ],
   "source": [
    "a = np.array([[0,1,2,3],[4,5,6,7]])\n",
    "print()\n",
    "print(a[1,1:])\n",
    "print(a[ :2, :2])"
   ]
  },
  {
   "cell_type": "code",
   "execution_count": 128,
   "metadata": {},
   "outputs": [
    {
     "name": "stdout",
     "output_type": "stream",
     "text": [
      "[12 24 36]\n",
      "[False  True False]\n",
      "[False  True  True]\n",
      "[False  True False]\n"
     ]
    }
   ],
   "source": [
    "a = np.array([1,2,3])\n",
    "b = np.array([10,20,30])\n",
    "print(2*a+b)\n",
    "print(a == 2)\n",
    "print(b > 10)\n",
    "print((a == 2) & (b > 10))"
   ]
  },
  {
   "cell_type": "markdown",
   "metadata": {},
   "source": [
    "## 팬시 인덱싱(fancy indexing)\n",
    "#### 대괄호 '[]' 안의 인덱스 정보로 숫자나 슬라이스가 아니라 위치 정보를 나타내는 또 다른 ndarray 배열을 받을 수 있음\n",
    "#### 1. 불리언(Boolean) 배열 방식\n"
   ]
  },
  {
   "cell_type": "code",
   "execution_count": 132,
   "metadata": {},
   "outputs": [
    {
     "name": "stdout",
     "output_type": "stream",
     "text": [
      "[0 2 4 6 8]\n"
     ]
    }
   ],
   "source": [
    "a = np.array([0,1,2,3,4,5,6,7,8,9])\n",
    "idx = np.array([True,False,True,False,True,\n",
    "                False,True,False,True,False])\n",
    "print(a[idx])"
   ]
  },
  {
   "cell_type": "code",
   "execution_count": 141,
   "metadata": {},
   "outputs": [
    {
     "name": "stdout",
     "output_type": "stream",
     "text": [
      "[ True False  True False  True False  True False  True False]\n",
      "[0 2 4 6 8]\n",
      "[0 2 4 6 8]\n"
     ]
    }
   ],
   "source": [
    "a = np.array([0,1,2,3,4,5,6,7,8,9])\n",
    "print(a % 2 == 0)\n",
    "b = a % 2 == 0\n",
    "print(a[a % 2 == 0])\n",
    "print(a[b])"
   ]
  },
  {
   "cell_type": "markdown",
   "metadata": {},
   "source": [
    "#### 2. 정수 배열 방식"
   ]
  },
  {
   "cell_type": "code",
   "execution_count": 142,
   "metadata": {},
   "outputs": [
    {
     "name": "stdout",
     "output_type": "stream",
     "text": [
      "[11 33 33 55 77 99]\n"
     ]
    }
   ],
   "source": [
    "a = np.array([11,22,33,44,55,66,77,88,99])\n",
    "idx = np.array([0,2,4,6,8])\n",
    "print(a[idx])"
   ]
  },
  {
   "cell_type": "code",
   "execution_count": 148,
   "metadata": {},
   "outputs": [
    {
     "name": "stdout",
     "output_type": "stream",
     "text": [
      "[[ 1  4]\n",
      " [ 5  8]\n",
      " [ 9 12]]\n"
     ]
    }
   ],
   "source": [
    "a = np.array([[1,2,3,4],[5,6,7,8],[9,10,11,12]])\n",
    "print(a[:,[0,3]])"
   ]
  },
  {
   "cell_type": "code",
   "execution_count": 156,
   "metadata": {},
   "outputs": [
    {
     "name": "stdout",
     "output_type": "stream",
     "text": [
      "[[ 9 10 11 12]\n",
      " [ 1  2  3  4]\n",
      " [ 5  6  7  8]]\n",
      "[[ 9 10 11 12]\n",
      " [ 1  2  3  4]\n",
      " [ 5  6  7  8]]\n"
     ]
    }
   ],
   "source": [
    "idx = np.array([2,0,1])\n",
    "print(a[idx])\n",
    "print(a[[2,0,1],:])"
   ]
  },
  {
   "cell_type": "code",
   "execution_count": 161,
   "metadata": {},
   "outputs": [
    {
     "name": "stdout",
     "output_type": "stream",
     "text": [
      "[ 3  6  9 12 15 18]\n",
      "[ 1  5  9 13 17]\n",
      "[9]\n"
     ]
    }
   ],
   "source": [
    "x = np.array([1,2,3,4,5,6,7,8,9,10,\n",
    "              11,12,13,14,15,16,17,18,19,20])\n",
    "print(x[x%3==0])\n",
    "print(x[x%4==1])\n",
    "print(x[(x % 3 == 0) & (x % 4 == 1)])"
   ]
  },
  {
   "cell_type": "markdown",
   "metadata": {},
   "source": [
    "## Pandas(Python Data Analysis Library)\n",
    "### 데이터를 조작/분석하기 위한 라이브러리\n"
   ]
  },
  {
   "attachments": {
    "image.png": {
     "image/png": "[encoded data removed]"
    }
   },
   "cell_type": "markdown",
   "metadata": {},
   "source": [
    "### Pandas의 데이터 구조\n",
    "![image.png](attachment:image.png)"
   ]
  },
  {
   "cell_type": "code",
   "execution_count": 162,
   "metadata": {},
   "outputs": [
    {
     "data": {
      "text/plain": [
       "'2.2.3'"
      ]
     },
     "execution_count": 162,
     "metadata": {},
     "output_type": "execute_result"
    }
   ],
   "source": [
    "import pandas as pd\n",
    "pd.__version__"
   ]
  },
  {
   "cell_type": "code",
   "execution_count": 176,
   "metadata": {},
   "outputs": [
    {
     "name": "stdout",
     "output_type": "stream",
     "text": [
      "a    3\n",
      "b   -5\n",
      "c    7\n",
      "d    4\n",
      "dtype: int64\n",
      "<class 'pandas.core.series.Series'>\n",
      "\n",
      "\n",
      "Index(['a', 'b', 'c', 'd'], dtype='object')\n",
      "[ 3 -5  7  4]\n",
      "3\n",
      "3\n"
     ]
    },
    {
     "name": "stderr",
     "output_type": "stream",
     "text": [
      "C:\\Users\\EL0017\\AppData\\Local\\Temp\\ipykernel_13600\\3414969442.py:7: FutureWarning: Series.__getitem__ treating keys as positions is deprecated. In a future version, integer keys will always be treated as labels (consistent with DataFrame behavior). To access a value by position, use `ser.iloc[pos]`\n",
      "  print(s[0])         #인덱스로 접근(곧 삭제)\n"
     ]
    }
   ],
   "source": [
    "s = pd.Series([3,-5,7,4],index = ['a','b','c','d'])\n",
    "print(s)\n",
    "print(type(s))\n",
    "print('\\n')\n",
    "print(s.index)      #인덱스만 출력\n",
    "print(s.values)     #값들만 출력\n",
    "print(s[0])         #인덱스로 접근(곧 삭제)\n",
    "print(s['a'])       #key로 접근"
   ]
  },
  {
   "cell_type": "code",
   "execution_count": 177,
   "metadata": {},
   "outputs": [
    {
     "name": "stdout",
     "output_type": "stream",
     "text": [
      "a     9\n",
      "b   -15\n",
      "c    21\n",
      "d    12\n",
      "dtype: int64\n"
     ]
    }
   ],
   "source": [
    "print(s*3)"
   ]
  },
  {
   "cell_type": "markdown",
   "metadata": {},
   "source": [
    "## DataFrame 만들기\n",
    "#### 이중 리스트나 딕셔너리로 만들 수 있음\n",
    "#### 딕셔너리로 데이터 프레임을 만들면 키(key)가 컬럼명으로 지정되어 만들어진다"
   ]
  },
  {
   "cell_type": "code",
   "execution_count": 183,
   "metadata": {},
   "outputs": [
    {
     "data": {
      "text/html": [
       "<div>\n",
       "<style scoped>\n",
       "    .dataframe tbody tr th:only-of-type {\n",
       "        vertical-align: middle;\n",
       "    }\n",
       "\n",
       "    .dataframe tbody tr th {\n",
       "        vertical-align: top;\n",
       "    }\n",
       "\n",
       "    .dataframe thead th {\n",
       "        text-align: right;\n",
       "    }\n",
       "</style>\n",
       "<table border=\"1\" class=\"dataframe\">\n",
       "  <thead>\n",
       "    <tr style=\"text-align: right;\">\n",
       "      <th></th>\n",
       "      <th>Division</th>\n",
       "      <th>Code</th>\n",
       "      <th>Population</th>\n",
       "    </tr>\n",
       "  </thead>\n",
       "  <tbody>\n",
       "    <tr>\n",
       "      <th>0</th>\n",
       "      <td>부산광역시</td>\n",
       "      <td>051</td>\n",
       "      <td>3364358</td>\n",
       "    </tr>\n",
       "    <tr>\n",
       "      <th>1</th>\n",
       "      <td>전라남도</td>\n",
       "      <td>061</td>\n",
       "      <td>123452</td>\n",
       "    </tr>\n",
       "    <tr>\n",
       "      <th>2</th>\n",
       "      <td>강원도</td>\n",
       "      <td>033</td>\n",
       "      <td>636322</td>\n",
       "    </tr>\n",
       "  </tbody>\n",
       "</table>\n",
       "</div>"
      ],
      "text/plain": [
       "  Division Code  Population\n",
       "0    부산광역시  051     3364358\n",
       "1     전라남도  061      123452\n",
       "2      강원도  033      636322"
      ]
     },
     "execution_count": 183,
     "metadata": {},
     "output_type": "execute_result"
    }
   ],
   "source": [
    "df_1 = pd.DataFrame({'Division' : ['부산광역시','전라남도','강원도'],\n",
    "                   'Code' : ['051', '061', '033'],\n",
    "                   'Population':[3364358,123452,636322]})\n",
    "\n",
    "df_1\n"
   ]
  },
  {
   "cell_type": "code",
   "execution_count": 184,
   "metadata": {},
   "outputs": [
    {
     "data": {
      "text/html": [
       "<div>\n",
       "<style scoped>\n",
       "    .dataframe tbody tr th:only-of-type {\n",
       "        vertical-align: middle;\n",
       "    }\n",
       "\n",
       "    .dataframe tbody tr th {\n",
       "        vertical-align: top;\n",
       "    }\n",
       "\n",
       "    .dataframe thead th {\n",
       "        text-align: right;\n",
       "    }\n",
       "</style>\n",
       "<table border=\"1\" class=\"dataframe\">\n",
       "  <thead>\n",
       "    <tr style=\"text-align: right;\">\n",
       "      <th></th>\n",
       "      <th>0</th>\n",
       "      <th>1</th>\n",
       "      <th>2</th>\n",
       "    </tr>\n",
       "  </thead>\n",
       "  <tbody>\n",
       "    <tr>\n",
       "      <th>0</th>\n",
       "      <td>부산광역시</td>\n",
       "      <td>051</td>\n",
       "      <td>3364358</td>\n",
       "    </tr>\n",
       "    <tr>\n",
       "      <th>1</th>\n",
       "      <td>전라남도</td>\n",
       "      <td>061</td>\n",
       "      <td>123452</td>\n",
       "    </tr>\n",
       "    <tr>\n",
       "      <th>2</th>\n",
       "      <td>강원도</td>\n",
       "      <td>033</td>\n",
       "      <td>636322</td>\n",
       "    </tr>\n",
       "  </tbody>\n",
       "</table>\n",
       "</div>"
      ],
      "text/plain": [
       "       0    1        2\n",
       "0  부산광역시  051  3364358\n",
       "1   전라남도  061   123452\n",
       "2    강원도  033   636322"
      ]
     },
     "execution_count": 184,
     "metadata": {},
     "output_type": "execute_result"
    }
   ],
   "source": [
    "df_2 = pd.DataFrame([['부산광역시','051',3364358],\n",
    "                   ['전라남도','061',123452],\n",
    "                   ['강원도','033',636322]])\n",
    "df_2"
   ]
  },
  {
   "cell_type": "code",
   "execution_count": 185,
   "metadata": {},
   "outputs": [
    {
     "data": {
      "text/plain": [
       "RangeIndex(start=0, stop=3, step=1)"
      ]
     },
     "execution_count": 185,
     "metadata": {},
     "output_type": "execute_result"
    }
   ],
   "source": [
    "df_1.index"
   ]
  },
  {
   "cell_type": "code",
   "execution_count": 186,
   "metadata": {},
   "outputs": [
    {
     "data": {
      "text/plain": [
       "Index(['Division', 'Code', 'Population'], dtype='object')"
      ]
     },
     "execution_count": 186,
     "metadata": {},
     "output_type": "execute_result"
    }
   ],
   "source": [
    "df_1.columns"
   ]
  },
  {
   "cell_type": "code",
   "execution_count": 187,
   "metadata": {},
   "outputs": [
    {
     "data": {
      "text/plain": [
       "array([['부산광역시', '051', 3364358],\n",
       "       ['전라남도', '061', 123452],\n",
       "       ['강원도', '033', 636322]], dtype=object)"
      ]
     },
     "execution_count": 187,
     "metadata": {},
     "output_type": "execute_result"
    }
   ],
   "source": [
    "df_1.values"
   ]
  },
  {
   "cell_type": "code",
   "execution_count": 190,
   "metadata": {},
   "outputs": [
    {
     "data": {
      "text/html": [
       "<div>\n",
       "<style scoped>\n",
       "    .dataframe tbody tr th:only-of-type {\n",
       "        vertical-align: middle;\n",
       "    }\n",
       "\n",
       "    .dataframe tbody tr th {\n",
       "        vertical-align: top;\n",
       "    }\n",
       "\n",
       "    .dataframe thead th {\n",
       "        text-align: right;\n",
       "    }\n",
       "</style>\n",
       "<table border=\"1\" class=\"dataframe\">\n",
       "  <thead>\n",
       "    <tr style=\"text-align: right;\">\n",
       "      <th></th>\n",
       "      <th>Division</th>\n",
       "      <th>Code</th>\n",
       "      <th>Population</th>\n",
       "    </tr>\n",
       "  </thead>\n",
       "  <tbody>\n",
       "    <tr>\n",
       "      <th>0</th>\n",
       "      <td>부산광역시</td>\n",
       "      <td>051</td>\n",
       "      <td>3364358</td>\n",
       "    </tr>\n",
       "    <tr>\n",
       "      <th>1</th>\n",
       "      <td>전라남도</td>\n",
       "      <td>061</td>\n",
       "      <td>123452</td>\n",
       "    </tr>\n",
       "    <tr>\n",
       "      <th>2</th>\n",
       "      <td>강원도</td>\n",
       "      <td>033</td>\n",
       "      <td>636322</td>\n",
       "    </tr>\n",
       "  </tbody>\n",
       "</table>\n",
       "</div>"
      ],
      "text/plain": [
       "  Division Code  Population\n",
       "0    부산광역시  051     3364358\n",
       "1     전라남도  061      123452\n",
       "2      강원도  033      636322"
      ]
     },
     "execution_count": 190,
     "metadata": {},
     "output_type": "execute_result"
    }
   ],
   "source": [
    "df_1"
   ]
  },
  {
   "cell_type": "code",
   "execution_count": 191,
   "metadata": {},
   "outputs": [
    {
     "name": "stdout",
     "output_type": "stream",
     "text": [
      "<class 'pandas.core.frame.DataFrame'>\n",
      "RangeIndex: 3 entries, 0 to 2\n",
      "Data columns (total 3 columns):\n",
      " #   Column      Non-Null Count  Dtype \n",
      "---  ------      --------------  ----- \n",
      " 0   Division    3 non-null      object\n",
      " 1   Code        3 non-null      object\n",
      " 2   Population  3 non-null      int64 \n",
      "dtypes: int64(1), object(2)\n",
      "memory usage: 204.0+ bytes\n"
     ]
    }
   ],
   "source": [
    "df_1.info()         #dataframe의 정보 제공"
   ]
  },
  {
   "cell_type": "code",
   "execution_count": 192,
   "metadata": {},
   "outputs": [
    {
     "data": {
      "text/html": [
       "<div>\n",
       "<style scoped>\n",
       "    .dataframe tbody tr th:only-of-type {\n",
       "        vertical-align: middle;\n",
       "    }\n",
       "\n",
       "    .dataframe tbody tr th {\n",
       "        vertical-align: top;\n",
       "    }\n",
       "\n",
       "    .dataframe thead th {\n",
       "        text-align: right;\n",
       "    }\n",
       "</style>\n",
       "<table border=\"1\" class=\"dataframe\">\n",
       "  <thead>\n",
       "    <tr style=\"text-align: right;\">\n",
       "      <th></th>\n",
       "      <th>Code</th>\n",
       "      <th>Population</th>\n",
       "    </tr>\n",
       "    <tr>\n",
       "      <th>Division</th>\n",
       "      <th></th>\n",
       "      <th></th>\n",
       "    </tr>\n",
       "  </thead>\n",
       "  <tbody>\n",
       "    <tr>\n",
       "      <th>부산광역시</th>\n",
       "      <td>051</td>\n",
       "      <td>3364358</td>\n",
       "    </tr>\n",
       "    <tr>\n",
       "      <th>전라남도</th>\n",
       "      <td>061</td>\n",
       "      <td>123452</td>\n",
       "    </tr>\n",
       "    <tr>\n",
       "      <th>강원도</th>\n",
       "      <td>033</td>\n",
       "      <td>636322</td>\n",
       "    </tr>\n",
       "  </tbody>\n",
       "</table>\n",
       "</div>"
      ],
      "text/plain": [
       "         Code  Population\n",
       "Division                 \n",
       "부산광역시     051     3364358\n",
       "전라남도      061      123452\n",
       "강원도       033      636322"
      ]
     },
     "execution_count": 192,
     "metadata": {},
     "output_type": "execute_result"
    }
   ],
   "source": [
    "df_1.set_index('Division')      #index 설정"
   ]
  },
  {
   "cell_type": "code",
   "execution_count": 1,
   "metadata": {},
   "outputs": [
    {
     "data": {
      "text/html": [
       "<div>\n",
       "<style scoped>\n",
       "    .dataframe tbody tr th:only-of-type {\n",
       "        vertical-align: middle;\n",
       "    }\n",
       "\n",
       "    .dataframe tbody tr th {\n",
       "        vertical-align: top;\n",
       "    }\n",
       "\n",
       "    .dataframe thead th {\n",
       "        text-align: right;\n",
       "    }\n",
       "</style>\n",
       "<table border=\"1\" class=\"dataframe\">\n",
       "  <thead>\n",
       "    <tr style=\"text-align: right;\">\n",
       "      <th></th>\n",
       "      <th>이름</th>\n",
       "      <th>나이</th>\n",
       "      <th>직업</th>\n",
       "      <th>국적</th>\n",
       "      <th>키</th>\n",
       "      <th>재산</th>\n",
       "    </tr>\n",
       "  </thead>\n",
       "  <tbody>\n",
       "    <tr>\n",
       "      <th>0</th>\n",
       "      <td>아이언맨</td>\n",
       "      <td>58</td>\n",
       "      <td>CEO</td>\n",
       "      <td>미국</td>\n",
       "      <td>174</td>\n",
       "      <td>11500000000</td>\n",
       "    </tr>\n",
       "    <tr>\n",
       "      <th>1</th>\n",
       "      <td>토르</td>\n",
       "      <td>45</td>\n",
       "      <td>신</td>\n",
       "      <td>아스가르드</td>\n",
       "      <td>190</td>\n",
       "      <td>NaN</td>\n",
       "    </tr>\n",
       "    <tr>\n",
       "      <th>2</th>\n",
       "      <td>스파이더맨</td>\n",
       "      <td>18</td>\n",
       "      <td>고등학생</td>\n",
       "      <td>미국</td>\n",
       "      <td>177</td>\n",
       "      <td>600</td>\n",
       "    </tr>\n",
       "    <tr>\n",
       "      <th>3</th>\n",
       "      <td>원더우먼</td>\n",
       "      <td>27</td>\n",
       "      <td>공주</td>\n",
       "      <td>데미스키라</td>\n",
       "      <td>178</td>\n",
       "      <td>NaN</td>\n",
       "    </tr>\n",
       "    <tr>\n",
       "      <th>4</th>\n",
       "      <td>헐크</td>\n",
       "      <td>33</td>\n",
       "      <td>핵물리학자</td>\n",
       "      <td>미국</td>\n",
       "      <td>270</td>\n",
       "      <td>1000000000</td>\n",
       "    </tr>\n",
       "    <tr>\n",
       "      <th>5</th>\n",
       "      <td>캡틴마블</td>\n",
       "      <td>25</td>\n",
       "      <td>파일럿</td>\n",
       "      <td>미국</td>\n",
       "      <td>170</td>\n",
       "      <td>340000000</td>\n",
       "    </tr>\n",
       "    <tr>\n",
       "      <th>6</th>\n",
       "      <td>블랙위도우</td>\n",
       "      <td>32</td>\n",
       "      <td>스파이</td>\n",
       "      <td>러시아</td>\n",
       "      <td>170</td>\n",
       "      <td>50000000</td>\n",
       "    </tr>\n",
       "  </tbody>\n",
       "</table>\n",
       "</div>"
      ],
      "text/plain": [
       "      이름  나이     직업     국적    키          재산\n",
       "0   아이언맨  58    CEO     미국  174 11500000000\n",
       "1     토르  45      신  아스가르드  190         NaN\n",
       "2  스파이더맨  18   고등학생     미국  177         600\n",
       "3   원더우먼  27     공주  데미스키라  178         NaN\n",
       "4     헐크  33  핵물리학자     미국  270  1000000000\n",
       "5   캡틴마블  25    파일럿     미국  170   340000000\n",
       "6  블랙위도우  32    스파이    러시아  170    50000000"
      ]
     },
     "execution_count": 1,
     "metadata": {},
     "output_type": "execute_result"
    }
   ],
   "source": [
    "import pandas as pd\n",
    "df = pd.read_csv('heroes.csv')\n",
    "\n",
    "pd.options.display.float_format = '{:.0f}'.format   #지수표현 변경\n",
    "df"
   ]
  },
  {
   "cell_type": "code",
   "execution_count": 5,
   "metadata": {},
   "outputs": [
    {
     "name": "stdout",
     "output_type": "stream",
     "text": [
      "<class 'pandas.core.frame.DataFrame'>\n",
      "RangeIndex: 7 entries, 0 to 6\n",
      "Data columns (total 6 columns):\n",
      " #   Column  Non-Null Count  Dtype  \n",
      "---  ------  --------------  -----  \n",
      " 0   이름      7 non-null      object \n",
      " 1   나이      7 non-null      int64  \n",
      " 2   직업      7 non-null      object \n",
      " 3   국적      7 non-null      object \n",
      " 4   키       7 non-null      int64  \n",
      " 5   재산      5 non-null      float64\n",
      "dtypes: float64(1), int64(2), object(3)\n",
      "memory usage: 468.0+ bytes\n"
     ]
    }
   ],
   "source": [
    "df.info()"
   ]
  },
  {
   "cell_type": "code",
   "execution_count": 7,
   "metadata": {},
   "outputs": [
    {
     "data": {
      "text/html": [
       "<div>\n",
       "<style scoped>\n",
       "    .dataframe tbody tr th:only-of-type {\n",
       "        vertical-align: middle;\n",
       "    }\n",
       "\n",
       "    .dataframe tbody tr th {\n",
       "        vertical-align: top;\n",
       "    }\n",
       "\n",
       "    .dataframe thead th {\n",
       "        text-align: right;\n",
       "    }\n",
       "</style>\n",
       "<table border=\"1\" class=\"dataframe\">\n",
       "  <thead>\n",
       "    <tr style=\"text-align: right;\">\n",
       "      <th></th>\n",
       "      <th>이름</th>\n",
       "      <th>나이</th>\n",
       "      <th>직업</th>\n",
       "      <th>국적</th>\n",
       "      <th>키</th>\n",
       "      <th>재산</th>\n",
       "    </tr>\n",
       "  </thead>\n",
       "  <tbody>\n",
       "    <tr>\n",
       "      <th>0</th>\n",
       "      <td>아이언맨</td>\n",
       "      <td>58</td>\n",
       "      <td>CEO</td>\n",
       "      <td>미국</td>\n",
       "      <td>174</td>\n",
       "      <td>11500000000</td>\n",
       "    </tr>\n",
       "    <tr>\n",
       "      <th>1</th>\n",
       "      <td>토르</td>\n",
       "      <td>45</td>\n",
       "      <td>신</td>\n",
       "      <td>아스가르드</td>\n",
       "      <td>190</td>\n",
       "      <td>NaN</td>\n",
       "    </tr>\n",
       "    <tr>\n",
       "      <th>2</th>\n",
       "      <td>스파이더맨</td>\n",
       "      <td>18</td>\n",
       "      <td>고등학생</td>\n",
       "      <td>미국</td>\n",
       "      <td>177</td>\n",
       "      <td>600</td>\n",
       "    </tr>\n",
       "    <tr>\n",
       "      <th>3</th>\n",
       "      <td>원더우먼</td>\n",
       "      <td>27</td>\n",
       "      <td>공주</td>\n",
       "      <td>데미스키라</td>\n",
       "      <td>178</td>\n",
       "      <td>NaN</td>\n",
       "    </tr>\n",
       "    <tr>\n",
       "      <th>4</th>\n",
       "      <td>헐크</td>\n",
       "      <td>33</td>\n",
       "      <td>핵물리학자</td>\n",
       "      <td>미국</td>\n",
       "      <td>270</td>\n",
       "      <td>1000000000</td>\n",
       "    </tr>\n",
       "  </tbody>\n",
       "</table>\n",
       "</div>"
      ],
      "text/plain": [
       "      이름  나이     직업     국적    키          재산\n",
       "0   아이언맨  58    CEO     미국  174 11500000000\n",
       "1     토르  45      신  아스가르드  190         NaN\n",
       "2  스파이더맨  18   고등학생     미국  177         600\n",
       "3   원더우먼  27     공주  데미스키라  178         NaN\n",
       "4     헐크  33  핵물리학자     미국  270  1000000000"
      ]
     },
     "execution_count": 7,
     "metadata": {},
     "output_type": "execute_result"
    }
   ],
   "source": [
    "df.head()"
   ]
  },
  {
   "cell_type": "code",
   "execution_count": 8,
   "metadata": {},
   "outputs": [
    {
     "data": {
      "text/html": [
       "<div>\n",
       "<style scoped>\n",
       "    .dataframe tbody tr th:only-of-type {\n",
       "        vertical-align: middle;\n",
       "    }\n",
       "\n",
       "    .dataframe tbody tr th {\n",
       "        vertical-align: top;\n",
       "    }\n",
       "\n",
       "    .dataframe thead th {\n",
       "        text-align: right;\n",
       "    }\n",
       "</style>\n",
       "<table border=\"1\" class=\"dataframe\">\n",
       "  <thead>\n",
       "    <tr style=\"text-align: right;\">\n",
       "      <th></th>\n",
       "      <th>이름</th>\n",
       "      <th>나이</th>\n",
       "      <th>직업</th>\n",
       "      <th>국적</th>\n",
       "      <th>키</th>\n",
       "      <th>재산</th>\n",
       "    </tr>\n",
       "  </thead>\n",
       "  <tbody>\n",
       "    <tr>\n",
       "      <th>2</th>\n",
       "      <td>스파이더맨</td>\n",
       "      <td>18</td>\n",
       "      <td>고등학생</td>\n",
       "      <td>미국</td>\n",
       "      <td>177</td>\n",
       "      <td>600</td>\n",
       "    </tr>\n",
       "    <tr>\n",
       "      <th>3</th>\n",
       "      <td>원더우먼</td>\n",
       "      <td>27</td>\n",
       "      <td>공주</td>\n",
       "      <td>데미스키라</td>\n",
       "      <td>178</td>\n",
       "      <td>NaN</td>\n",
       "    </tr>\n",
       "    <tr>\n",
       "      <th>4</th>\n",
       "      <td>헐크</td>\n",
       "      <td>33</td>\n",
       "      <td>핵물리학자</td>\n",
       "      <td>미국</td>\n",
       "      <td>270</td>\n",
       "      <td>1000000000</td>\n",
       "    </tr>\n",
       "    <tr>\n",
       "      <th>5</th>\n",
       "      <td>캡틴마블</td>\n",
       "      <td>25</td>\n",
       "      <td>파일럿</td>\n",
       "      <td>미국</td>\n",
       "      <td>170</td>\n",
       "      <td>340000000</td>\n",
       "    </tr>\n",
       "    <tr>\n",
       "      <th>6</th>\n",
       "      <td>블랙위도우</td>\n",
       "      <td>32</td>\n",
       "      <td>스파이</td>\n",
       "      <td>러시아</td>\n",
       "      <td>170</td>\n",
       "      <td>50000000</td>\n",
       "    </tr>\n",
       "  </tbody>\n",
       "</table>\n",
       "</div>"
      ],
      "text/plain": [
       "      이름  나이     직업     국적    키         재산\n",
       "2  스파이더맨  18   고등학생     미국  177        600\n",
       "3   원더우먼  27     공주  데미스키라  178        NaN\n",
       "4     헐크  33  핵물리학자     미국  270 1000000000\n",
       "5   캡틴마블  25    파일럿     미국  170  340000000\n",
       "6  블랙위도우  32    스파이    러시아  170   50000000"
      ]
     },
     "execution_count": 8,
     "metadata": {},
     "output_type": "execute_result"
    }
   ],
   "source": [
    "df.tail()"
   ]
  },
  {
   "cell_type": "code",
   "execution_count": 11,
   "metadata": {},
   "outputs": [
    {
     "data": {
      "text/html": [
       "<div>\n",
       "<style scoped>\n",
       "    .dataframe tbody tr th:only-of-type {\n",
       "        vertical-align: middle;\n",
       "    }\n",
       "\n",
       "    .dataframe tbody tr th {\n",
       "        vertical-align: top;\n",
       "    }\n",
       "\n",
       "    .dataframe thead th {\n",
       "        text-align: right;\n",
       "    }\n",
       "</style>\n",
       "<table border=\"1\" class=\"dataframe\">\n",
       "  <thead>\n",
       "    <tr style=\"text-align: right;\">\n",
       "      <th></th>\n",
       "      <th>나이</th>\n",
       "      <th>키</th>\n",
       "      <th>재산</th>\n",
       "    </tr>\n",
       "  </thead>\n",
       "  <tbody>\n",
       "    <tr>\n",
       "      <th>count</th>\n",
       "      <td>7</td>\n",
       "      <td>7</td>\n",
       "      <td>5</td>\n",
       "    </tr>\n",
       "    <tr>\n",
       "      <th>mean</th>\n",
       "      <td>34</td>\n",
       "      <td>190</td>\n",
       "      <td>2578000120</td>\n",
       "    </tr>\n",
       "    <tr>\n",
       "      <th>std</th>\n",
       "      <td>13</td>\n",
       "      <td>36</td>\n",
       "      <td>5003440739</td>\n",
       "    </tr>\n",
       "    <tr>\n",
       "      <th>min</th>\n",
       "      <td>18</td>\n",
       "      <td>170</td>\n",
       "      <td>600</td>\n",
       "    </tr>\n",
       "    <tr>\n",
       "      <th>25%</th>\n",
       "      <td>26</td>\n",
       "      <td>172</td>\n",
       "      <td>50000000</td>\n",
       "    </tr>\n",
       "    <tr>\n",
       "      <th>50%</th>\n",
       "      <td>32</td>\n",
       "      <td>177</td>\n",
       "      <td>340000000</td>\n",
       "    </tr>\n",
       "    <tr>\n",
       "      <th>75%</th>\n",
       "      <td>39</td>\n",
       "      <td>184</td>\n",
       "      <td>1000000000</td>\n",
       "    </tr>\n",
       "    <tr>\n",
       "      <th>max</th>\n",
       "      <td>58</td>\n",
       "      <td>270</td>\n",
       "      <td>11500000000</td>\n",
       "    </tr>\n",
       "  </tbody>\n",
       "</table>\n",
       "</div>"
      ],
      "text/plain": [
       "       나이   키          재산\n",
       "count   7   7           5\n",
       "mean   34 190  2578000120\n",
       "std    13  36  5003440739\n",
       "min    18 170         600\n",
       "25%    26 172    50000000\n",
       "50%    32 177   340000000\n",
       "75%    39 184  1000000000\n",
       "max    58 270 11500000000"
      ]
     },
     "execution_count": 11,
     "metadata": {},
     "output_type": "execute_result"
    }
   ],
   "source": [
    "df.describe()   #숫자인 값만 통계"
   ]
  },
  {
   "cell_type": "code",
   "execution_count": 16,
   "metadata": {},
   "outputs": [
    {
     "data": {
      "text/plain": [
       "array(['미국', '아스가르드', '데미스키라', '러시아'], dtype=object)"
      ]
     },
     "execution_count": 16,
     "metadata": {},
     "output_type": "execute_result"
    }
   ],
   "source": [
    "df['국적'].unique()     #데이터 종류 출력"
   ]
  },
  {
   "cell_type": "code",
   "execution_count": 18,
   "metadata": {},
   "outputs": [
    {
     "data": {
      "text/plain": [
       "국적\n",
       "미국       4\n",
       "아스가르드    1\n",
       "데미스키라    1\n",
       "러시아      1\n",
       "Name: count, dtype: int64"
      ]
     },
     "execution_count": 18,
     "metadata": {},
     "output_type": "execute_result"
    }
   ],
   "source": [
    "df['국적'].value_counts()   #데이터 분포 출력"
   ]
  },
  {
   "cell_type": "code",
   "execution_count": 24,
   "metadata": {},
   "outputs": [
    {
     "data": {
      "text/plain": [
       "0    58\n",
       "1    45\n",
       "4    33\n",
       "6    32\n",
       "3    27\n",
       "5    25\n",
       "2    18\n",
       "Name: 나이, dtype: int64"
      ]
     },
     "execution_count": 24,
     "metadata": {},
     "output_type": "execute_result"
    }
   ],
   "source": [
    "df['나이'].nlargest(7)  #nlargest(개수)"
   ]
  },
  {
   "cell_type": "code",
   "execution_count": 28,
   "metadata": {},
   "outputs": [
    {
     "data": {
      "text/html": [
       "<div>\n",
       "<style scoped>\n",
       "    .dataframe tbody tr th:only-of-type {\n",
       "        vertical-align: middle;\n",
       "    }\n",
       "\n",
       "    .dataframe tbody tr th {\n",
       "        vertical-align: top;\n",
       "    }\n",
       "\n",
       "    .dataframe thead th {\n",
       "        text-align: right;\n",
       "    }\n",
       "</style>\n",
       "<table border=\"1\" class=\"dataframe\">\n",
       "  <thead>\n",
       "    <tr style=\"text-align: right;\">\n",
       "      <th></th>\n",
       "      <th>이름</th>\n",
       "      <th>나이</th>\n",
       "      <th>직업</th>\n",
       "      <th>국적</th>\n",
       "      <th>키</th>\n",
       "      <th>재산</th>\n",
       "    </tr>\n",
       "  </thead>\n",
       "  <tbody>\n",
       "    <tr>\n",
       "      <th>0</th>\n",
       "      <td>아이언맨</td>\n",
       "      <td>58</td>\n",
       "      <td>CEO</td>\n",
       "      <td>미국</td>\n",
       "      <td>174</td>\n",
       "      <td>11500000000</td>\n",
       "    </tr>\n",
       "    <tr>\n",
       "      <th>1</th>\n",
       "      <td>토르</td>\n",
       "      <td>45</td>\n",
       "      <td>신</td>\n",
       "      <td>아스가르드</td>\n",
       "      <td>190</td>\n",
       "      <td>NaN</td>\n",
       "    </tr>\n",
       "    <tr>\n",
       "      <th>4</th>\n",
       "      <td>헐크</td>\n",
       "      <td>33</td>\n",
       "      <td>핵물리학자</td>\n",
       "      <td>미국</td>\n",
       "      <td>270</td>\n",
       "      <td>1000000000</td>\n",
       "    </tr>\n",
       "    <tr>\n",
       "      <th>6</th>\n",
       "      <td>블랙위도우</td>\n",
       "      <td>32</td>\n",
       "      <td>스파이</td>\n",
       "      <td>러시아</td>\n",
       "      <td>170</td>\n",
       "      <td>50000000</td>\n",
       "    </tr>\n",
       "    <tr>\n",
       "      <th>3</th>\n",
       "      <td>원더우먼</td>\n",
       "      <td>27</td>\n",
       "      <td>공주</td>\n",
       "      <td>데미스키라</td>\n",
       "      <td>178</td>\n",
       "      <td>NaN</td>\n",
       "    </tr>\n",
       "    <tr>\n",
       "      <th>5</th>\n",
       "      <td>캡틴마블</td>\n",
       "      <td>25</td>\n",
       "      <td>파일럿</td>\n",
       "      <td>미국</td>\n",
       "      <td>170</td>\n",
       "      <td>340000000</td>\n",
       "    </tr>\n",
       "    <tr>\n",
       "      <th>2</th>\n",
       "      <td>스파이더맨</td>\n",
       "      <td>18</td>\n",
       "      <td>고등학생</td>\n",
       "      <td>미국</td>\n",
       "      <td>177</td>\n",
       "      <td>600</td>\n",
       "    </tr>\n",
       "  </tbody>\n",
       "</table>\n",
       "</div>"
      ],
      "text/plain": [
       "      이름  나이     직업     국적    키          재산\n",
       "0   아이언맨  58    CEO     미국  174 11500000000\n",
       "1     토르  45      신  아스가르드  190         NaN\n",
       "4     헐크  33  핵물리학자     미국  270  1000000000\n",
       "6  블랙위도우  32    스파이    러시아  170    50000000\n",
       "3   원더우먼  27     공주  데미스키라  178         NaN\n",
       "5   캡틴마블  25    파일럿     미국  170   340000000\n",
       "2  스파이더맨  18   고등학생     미국  177         600"
      ]
     },
     "execution_count": 28,
     "metadata": {},
     "output_type": "execute_result"
    }
   ],
   "source": [
    "df.nlargest(7,['나이'])"
   ]
  },
  {
   "cell_type": "code",
   "execution_count": 38,
   "metadata": {},
   "outputs": [
    {
     "data": {
      "text/html": [
       "<div>\n",
       "<style scoped>\n",
       "    .dataframe tbody tr th:only-of-type {\n",
       "        vertical-align: middle;\n",
       "    }\n",
       "\n",
       "    .dataframe tbody tr th {\n",
       "        vertical-align: top;\n",
       "    }\n",
       "\n",
       "    .dataframe thead th {\n",
       "        text-align: right;\n",
       "    }\n",
       "</style>\n",
       "<table border=\"1\" class=\"dataframe\">\n",
       "  <thead>\n",
       "    <tr style=\"text-align: right;\">\n",
       "      <th></th>\n",
       "      <th>이름</th>\n",
       "      <th>나이</th>\n",
       "    </tr>\n",
       "  </thead>\n",
       "  <tbody>\n",
       "    <tr>\n",
       "      <th>0</th>\n",
       "      <td>아이언맨</td>\n",
       "      <td>58</td>\n",
       "    </tr>\n",
       "    <tr>\n",
       "      <th>1</th>\n",
       "      <td>토르</td>\n",
       "      <td>45</td>\n",
       "    </tr>\n",
       "    <tr>\n",
       "      <th>4</th>\n",
       "      <td>헐크</td>\n",
       "      <td>33</td>\n",
       "    </tr>\n",
       "    <tr>\n",
       "      <th>6</th>\n",
       "      <td>블랙위도우</td>\n",
       "      <td>32</td>\n",
       "    </tr>\n",
       "    <tr>\n",
       "      <th>3</th>\n",
       "      <td>원더우먼</td>\n",
       "      <td>27</td>\n",
       "    </tr>\n",
       "    <tr>\n",
       "      <th>5</th>\n",
       "      <td>캡틴마블</td>\n",
       "      <td>25</td>\n",
       "    </tr>\n",
       "    <tr>\n",
       "      <th>2</th>\n",
       "      <td>스파이더맨</td>\n",
       "      <td>18</td>\n",
       "    </tr>\n",
       "  </tbody>\n",
       "</table>\n",
       "</div>"
      ],
      "text/plain": [
       "      이름  나이\n",
       "0   아이언맨  58\n",
       "1     토르  45\n",
       "4     헐크  33\n",
       "6  블랙위도우  32\n",
       "3   원더우먼  27\n",
       "5   캡틴마블  25\n",
       "2  스파이더맨  18"
      ]
     },
     "execution_count": 38,
     "metadata": {},
     "output_type": "execute_result"
    }
   ],
   "source": [
    "df[['이름','나이']].nlargest(7,'나이')"
   ]
  },
  {
   "cell_type": "code",
   "execution_count": 40,
   "metadata": {},
   "outputs": [
    {
     "data": {
      "text/plain": [
       "1       토르\n",
       "2    스파이더맨\n",
       "3     원더우먼\n",
       "Name: 이름, dtype: object"
      ]
     },
     "execution_count": 40,
     "metadata": {},
     "output_type": "execute_result"
    }
   ],
   "source": [
    "df['이름'][1:4]"
   ]
  },
  {
   "cell_type": "code",
   "execution_count": 42,
   "metadata": {},
   "outputs": [
    {
     "data": {
      "text/html": [
       "<div>\n",
       "<style scoped>\n",
       "    .dataframe tbody tr th:only-of-type {\n",
       "        vertical-align: middle;\n",
       "    }\n",
       "\n",
       "    .dataframe tbody tr th {\n",
       "        vertical-align: top;\n",
       "    }\n",
       "\n",
       "    .dataframe thead th {\n",
       "        text-align: right;\n",
       "    }\n",
       "</style>\n",
       "<table border=\"1\" class=\"dataframe\">\n",
       "  <thead>\n",
       "    <tr style=\"text-align: right;\">\n",
       "      <th></th>\n",
       "      <th>이름</th>\n",
       "      <th>나이</th>\n",
       "      <th>직업</th>\n",
       "      <th>국적</th>\n",
       "      <th>키</th>\n",
       "      <th>재산</th>\n",
       "    </tr>\n",
       "  </thead>\n",
       "  <tbody>\n",
       "    <tr>\n",
       "      <th>3</th>\n",
       "      <td>원더우먼</td>\n",
       "      <td>27</td>\n",
       "      <td>공주</td>\n",
       "      <td>데미스키라</td>\n",
       "      <td>178</td>\n",
       "      <td>NaN</td>\n",
       "    </tr>\n",
       "    <tr>\n",
       "      <th>4</th>\n",
       "      <td>헐크</td>\n",
       "      <td>33</td>\n",
       "      <td>핵물리학자</td>\n",
       "      <td>미국</td>\n",
       "      <td>270</td>\n",
       "      <td>1000000000</td>\n",
       "    </tr>\n",
       "    <tr>\n",
       "      <th>5</th>\n",
       "      <td>캡틴마블</td>\n",
       "      <td>25</td>\n",
       "      <td>파일럿</td>\n",
       "      <td>미국</td>\n",
       "      <td>170</td>\n",
       "      <td>340000000</td>\n",
       "    </tr>\n",
       "  </tbody>\n",
       "</table>\n",
       "</div>"
      ],
      "text/plain": [
       "     이름  나이     직업     국적    키         재산\n",
       "3  원더우먼  27     공주  데미스키라  178        NaN\n",
       "4    헐크  33  핵물리학자     미국  270 1000000000\n",
       "5  캡틴마블  25    파일럿     미국  170  340000000"
      ]
     },
     "execution_count": 42,
     "metadata": {},
     "output_type": "execute_result"
    }
   ],
   "source": [
    "df[3:6]"
   ]
  },
  {
   "cell_type": "code",
   "execution_count": 75,
   "metadata": {},
   "outputs": [
    {
     "data": {
      "text/html": [
       "<div>\n",
       "<style scoped>\n",
       "    .dataframe tbody tr th:only-of-type {\n",
       "        vertical-align: middle;\n",
       "    }\n",
       "\n",
       "    .dataframe tbody tr th {\n",
       "        vertical-align: top;\n",
       "    }\n",
       "\n",
       "    .dataframe thead th {\n",
       "        text-align: right;\n",
       "    }\n",
       "</style>\n",
       "<table border=\"1\" class=\"dataframe\">\n",
       "  <thead>\n",
       "    <tr style=\"text-align: right;\">\n",
       "      <th></th>\n",
       "      <th>이름</th>\n",
       "      <th>나이</th>\n",
       "      <th>직업</th>\n",
       "      <th>국적</th>\n",
       "      <th>키</th>\n",
       "      <th>재산</th>\n",
       "    </tr>\n",
       "  </thead>\n",
       "  <tbody>\n",
       "    <tr>\n",
       "      <th>1</th>\n",
       "      <td>토르</td>\n",
       "      <td>45</td>\n",
       "      <td>신</td>\n",
       "      <td>아스가르드</td>\n",
       "      <td>190</td>\n",
       "      <td>NaN</td>\n",
       "    </tr>\n",
       "    <tr>\n",
       "      <th>3</th>\n",
       "      <td>원더우먼</td>\n",
       "      <td>27</td>\n",
       "      <td>공주</td>\n",
       "      <td>데미스키라</td>\n",
       "      <td>178</td>\n",
       "      <td>NaN</td>\n",
       "    </tr>\n",
       "    <tr>\n",
       "      <th>4</th>\n",
       "      <td>헐크</td>\n",
       "      <td>33</td>\n",
       "      <td>핵물리학자</td>\n",
       "      <td>미국</td>\n",
       "      <td>270</td>\n",
       "      <td>1000000000</td>\n",
       "    </tr>\n",
       "  </tbody>\n",
       "</table>\n",
       "</div>"
      ],
      "text/plain": [
       "     이름  나이     직업     국적    키         재산\n",
       "1    토르  45      신  아스가르드  190        NaN\n",
       "3  원더우먼  27     공주  데미스키라  178        NaN\n",
       "4    헐크  33  핵물리학자     미국  270 1000000000"
      ]
     },
     "execution_count": 75,
     "metadata": {},
     "output_type": "execute_result"
    }
   ],
   "source": [
    "df.iloc[1,1]        #데이터프레임명.iloc[행번호, 열번호]\n",
    "df.iloc[[1,3,4]]"
   ]
  },
  {
   "cell_type": "code",
   "execution_count": 48,
   "metadata": {},
   "outputs": [
    {
     "data": {
      "text/html": [
       "<div>\n",
       "<style scoped>\n",
       "    .dataframe tbody tr th:only-of-type {\n",
       "        vertical-align: middle;\n",
       "    }\n",
       "\n",
       "    .dataframe tbody tr th {\n",
       "        vertical-align: top;\n",
       "    }\n",
       "\n",
       "    .dataframe thead th {\n",
       "        text-align: right;\n",
       "    }\n",
       "</style>\n",
       "<table border=\"1\" class=\"dataframe\">\n",
       "  <thead>\n",
       "    <tr style=\"text-align: right;\">\n",
       "      <th></th>\n",
       "      <th>이름</th>\n",
       "      <th>나이</th>\n",
       "      <th>직업</th>\n",
       "      <th>국적</th>\n",
       "      <th>키</th>\n",
       "      <th>재산</th>\n",
       "    </tr>\n",
       "  </thead>\n",
       "  <tbody>\n",
       "    <tr>\n",
       "      <th>1</th>\n",
       "      <td>토르</td>\n",
       "      <td>45</td>\n",
       "      <td>신</td>\n",
       "      <td>아스가르드</td>\n",
       "      <td>190</td>\n",
       "      <td>NaN</td>\n",
       "    </tr>\n",
       "    <tr>\n",
       "      <th>2</th>\n",
       "      <td>스파이더맨</td>\n",
       "      <td>18</td>\n",
       "      <td>고등학생</td>\n",
       "      <td>미국</td>\n",
       "      <td>177</td>\n",
       "      <td>600</td>\n",
       "    </tr>\n",
       "    <tr>\n",
       "      <th>3</th>\n",
       "      <td>원더우먼</td>\n",
       "      <td>27</td>\n",
       "      <td>공주</td>\n",
       "      <td>데미스키라</td>\n",
       "      <td>178</td>\n",
       "      <td>NaN</td>\n",
       "    </tr>\n",
       "  </tbody>\n",
       "</table>\n",
       "</div>"
      ],
      "text/plain": [
       "      이름  나이    직업     국적    키  재산\n",
       "1     토르  45     신  아스가르드  190 NaN\n",
       "2  스파이더맨  18  고등학생     미국  177 600\n",
       "3   원더우먼  27    공주  데미스키라  178 NaN"
      ]
     },
     "execution_count": 48,
     "metadata": {},
     "output_type": "execute_result"
    }
   ],
   "source": [
    "df.iloc[1:4]"
   ]
  },
  {
   "cell_type": "code",
   "execution_count": 50,
   "metadata": {},
   "outputs": [
    {
     "data": {
      "text/html": [
       "<div>\n",
       "<style scoped>\n",
       "    .dataframe tbody tr th:only-of-type {\n",
       "        vertical-align: middle;\n",
       "    }\n",
       "\n",
       "    .dataframe tbody tr th {\n",
       "        vertical-align: top;\n",
       "    }\n",
       "\n",
       "    .dataframe thead th {\n",
       "        text-align: right;\n",
       "    }\n",
       "</style>\n",
       "<table border=\"1\" class=\"dataframe\">\n",
       "  <thead>\n",
       "    <tr style=\"text-align: right;\">\n",
       "      <th></th>\n",
       "      <th>이름</th>\n",
       "      <th>나이</th>\n",
       "      <th>직업</th>\n",
       "    </tr>\n",
       "  </thead>\n",
       "  <tbody>\n",
       "    <tr>\n",
       "      <th>0</th>\n",
       "      <td>아이언맨</td>\n",
       "      <td>58</td>\n",
       "      <td>CEO</td>\n",
       "    </tr>\n",
       "    <tr>\n",
       "      <th>1</th>\n",
       "      <td>토르</td>\n",
       "      <td>45</td>\n",
       "      <td>신</td>\n",
       "    </tr>\n",
       "    <tr>\n",
       "      <th>2</th>\n",
       "      <td>스파이더맨</td>\n",
       "      <td>18</td>\n",
       "      <td>고등학생</td>\n",
       "    </tr>\n",
       "    <tr>\n",
       "      <th>3</th>\n",
       "      <td>원더우먼</td>\n",
       "      <td>27</td>\n",
       "      <td>공주</td>\n",
       "    </tr>\n",
       "    <tr>\n",
       "      <th>4</th>\n",
       "      <td>헐크</td>\n",
       "      <td>33</td>\n",
       "      <td>핵물리학자</td>\n",
       "    </tr>\n",
       "  </tbody>\n",
       "</table>\n",
       "</div>"
      ],
      "text/plain": [
       "      이름  나이     직업\n",
       "0   아이언맨  58    CEO\n",
       "1     토르  45      신\n",
       "2  스파이더맨  18   고등학생\n",
       "3   원더우먼  27     공주\n",
       "4     헐크  33  핵물리학자"
      ]
     },
     "execution_count": 50,
     "metadata": {},
     "output_type": "execute_result"
    }
   ],
   "source": [
    "df.iloc[:5,:3]"
   ]
  },
  {
   "cell_type": "code",
   "execution_count": 15,
   "metadata": {},
   "outputs": [
    {
     "data": {
      "text/html": [
       "<div>\n",
       "<style scoped>\n",
       "    .dataframe tbody tr th:only-of-type {\n",
       "        vertical-align: middle;\n",
       "    }\n",
       "\n",
       "    .dataframe tbody tr th {\n",
       "        vertical-align: top;\n",
       "    }\n",
       "\n",
       "    .dataframe thead th {\n",
       "        text-align: right;\n",
       "    }\n",
       "</style>\n",
       "<table border=\"1\" class=\"dataframe\">\n",
       "  <thead>\n",
       "    <tr style=\"text-align: right;\">\n",
       "      <th></th>\n",
       "      <th>이름</th>\n",
       "      <th>나이</th>\n",
       "      <th>직업</th>\n",
       "      <th>국적</th>\n",
       "      <th>키</th>\n",
       "      <th>재산</th>\n",
       "    </tr>\n",
       "  </thead>\n",
       "  <tbody>\n",
       "    <tr>\n",
       "      <th>a</th>\n",
       "      <td>아이언맨</td>\n",
       "      <td>58</td>\n",
       "      <td>CEO</td>\n",
       "      <td>미국</td>\n",
       "      <td>174</td>\n",
       "      <td>11500000000</td>\n",
       "    </tr>\n",
       "    <tr>\n",
       "      <th>b</th>\n",
       "      <td>토르</td>\n",
       "      <td>45</td>\n",
       "      <td>신</td>\n",
       "      <td>아스가르드</td>\n",
       "      <td>190</td>\n",
       "      <td>NaN</td>\n",
       "    </tr>\n",
       "    <tr>\n",
       "      <th>c</th>\n",
       "      <td>스파이더맨</td>\n",
       "      <td>18</td>\n",
       "      <td>고등학생</td>\n",
       "      <td>미국</td>\n",
       "      <td>177</td>\n",
       "      <td>600</td>\n",
       "    </tr>\n",
       "    <tr>\n",
       "      <th>d</th>\n",
       "      <td>원더우먼</td>\n",
       "      <td>27</td>\n",
       "      <td>공주</td>\n",
       "      <td>데미스키라</td>\n",
       "      <td>178</td>\n",
       "      <td>NaN</td>\n",
       "    </tr>\n",
       "    <tr>\n",
       "      <th>e</th>\n",
       "      <td>헐크</td>\n",
       "      <td>33</td>\n",
       "      <td>핵물리학자</td>\n",
       "      <td>미국</td>\n",
       "      <td>270</td>\n",
       "      <td>1000000000</td>\n",
       "    </tr>\n",
       "    <tr>\n",
       "      <th>f</th>\n",
       "      <td>캡틴마블</td>\n",
       "      <td>25</td>\n",
       "      <td>파일럿</td>\n",
       "      <td>미국</td>\n",
       "      <td>170</td>\n",
       "      <td>340000000</td>\n",
       "    </tr>\n",
       "    <tr>\n",
       "      <th>g</th>\n",
       "      <td>블랙위도우</td>\n",
       "      <td>32</td>\n",
       "      <td>스파이</td>\n",
       "      <td>러시아</td>\n",
       "      <td>170</td>\n",
       "      <td>50000000</td>\n",
       "    </tr>\n",
       "  </tbody>\n",
       "</table>\n",
       "</div>"
      ],
      "text/plain": [
       "      이름  나이     직업     국적    키          재산\n",
       "a   아이언맨  58    CEO     미국  174 11500000000\n",
       "b     토르  45      신  아스가르드  190         NaN\n",
       "c  스파이더맨  18   고등학생     미국  177         600\n",
       "d   원더우먼  27     공주  데미스키라  178         NaN\n",
       "e     헐크  33  핵물리학자     미국  270  1000000000\n",
       "f   캡틴마블  25    파일럿     미국  170   340000000\n",
       "g  블랙위도우  32    스파이    러시아  170    50000000"
      ]
     },
     "execution_count": 15,
     "metadata": {},
     "output_type": "execute_result"
    }
   ],
   "source": [
    "df2 = df.copy()\n",
    "df2.index = ['a','b','c','d','e','f','g']\n",
    "df2"
   ]
  },
  {
   "cell_type": "code",
   "execution_count": 56,
   "metadata": {},
   "outputs": [
    {
     "data": {
      "text/html": [
       "<div>\n",
       "<style scoped>\n",
       "    .dataframe tbody tr th:only-of-type {\n",
       "        vertical-align: middle;\n",
       "    }\n",
       "\n",
       "    .dataframe tbody tr th {\n",
       "        vertical-align: top;\n",
       "    }\n",
       "\n",
       "    .dataframe thead th {\n",
       "        text-align: right;\n",
       "    }\n",
       "</style>\n",
       "<table border=\"1\" class=\"dataframe\">\n",
       "  <thead>\n",
       "    <tr style=\"text-align: right;\">\n",
       "      <th></th>\n",
       "      <th>이름</th>\n",
       "      <th>나이</th>\n",
       "      <th>직업</th>\n",
       "    </tr>\n",
       "  </thead>\n",
       "  <tbody>\n",
       "    <tr>\n",
       "      <th>a</th>\n",
       "      <td>아이언맨</td>\n",
       "      <td>58</td>\n",
       "      <td>CEO</td>\n",
       "    </tr>\n",
       "    <tr>\n",
       "      <th>b</th>\n",
       "      <td>토르</td>\n",
       "      <td>45</td>\n",
       "      <td>신</td>\n",
       "    </tr>\n",
       "  </tbody>\n",
       "</table>\n",
       "</div>"
      ],
      "text/plain": [
       "     이름  나이   직업\n",
       "a  아이언맨  58  CEO\n",
       "b    토르  45    신"
      ]
     },
     "execution_count": 56,
     "metadata": {},
     "output_type": "execute_result"
    }
   ],
   "source": [
    "df2.loc['a':'b']        #b열까지 출력됨\n",
    "df2.loc['a':'b','이름':'직업']"
   ]
  },
  {
   "cell_type": "code",
   "execution_count": 64,
   "metadata": {},
   "outputs": [
    {
     "data": {
      "text/plain": [
       "0    False\n",
       "1     True\n",
       "2    False\n",
       "3     True\n",
       "4    False\n",
       "5    False\n",
       "6    False\n",
       "Name: 재산, dtype: bool"
      ]
     },
     "execution_count": 64,
     "metadata": {},
     "output_type": "execute_result"
    }
   ],
   "source": [
    "df['재산'].isnull()     #행의 null값 확인"
   ]
  },
  {
   "cell_type": "code",
   "execution_count": 66,
   "metadata": {},
   "outputs": [
    {
     "data": {
      "text/plain": [
       "이름    0\n",
       "나이    0\n",
       "직업    0\n",
       "국적    0\n",
       "키     0\n",
       "재산    2\n",
       "dtype: int64"
      ]
     },
     "execution_count": 66,
     "metadata": {},
     "output_type": "execute_result"
    }
   ],
   "source": [
    "df.isnull().sum()   #null의 합"
   ]
  },
  {
   "cell_type": "code",
   "execution_count": 67,
   "metadata": {},
   "outputs": [
    {
     "data": {
      "text/html": [
       "<div>\n",
       "<style scoped>\n",
       "    .dataframe tbody tr th:only-of-type {\n",
       "        vertical-align: middle;\n",
       "    }\n",
       "\n",
       "    .dataframe tbody tr th {\n",
       "        vertical-align: top;\n",
       "    }\n",
       "\n",
       "    .dataframe thead th {\n",
       "        text-align: right;\n",
       "    }\n",
       "</style>\n",
       "<table border=\"1\" class=\"dataframe\">\n",
       "  <thead>\n",
       "    <tr style=\"text-align: right;\">\n",
       "      <th></th>\n",
       "      <th>이름</th>\n",
       "      <th>나이</th>\n",
       "      <th>직업</th>\n",
       "      <th>국적</th>\n",
       "      <th>키</th>\n",
       "      <th>재산</th>\n",
       "    </tr>\n",
       "  </thead>\n",
       "  <tbody>\n",
       "    <tr>\n",
       "      <th>1</th>\n",
       "      <td>토르</td>\n",
       "      <td>45</td>\n",
       "      <td>신</td>\n",
       "      <td>아스가르드</td>\n",
       "      <td>190</td>\n",
       "      <td>NaN</td>\n",
       "    </tr>\n",
       "    <tr>\n",
       "      <th>3</th>\n",
       "      <td>원더우먼</td>\n",
       "      <td>27</td>\n",
       "      <td>공주</td>\n",
       "      <td>데미스키라</td>\n",
       "      <td>178</td>\n",
       "      <td>NaN</td>\n",
       "    </tr>\n",
       "  </tbody>\n",
       "</table>\n",
       "</div>"
      ],
      "text/plain": [
       "     이름  나이  직업     국적    키  재산\n",
       "1    토르  45   신  아스가르드  190 NaN\n",
       "3  원더우먼  27  공주  데미스키라  178 NaN"
      ]
     },
     "execution_count": 67,
     "metadata": {},
     "output_type": "execute_result"
    }
   ],
   "source": [
    "df[df['재산'].isnull()]     #null값만 출력"
   ]
  },
  {
   "cell_type": "code",
   "execution_count": 73,
   "metadata": {},
   "outputs": [
    {
     "data": {
      "text/html": [
       "<div>\n",
       "<style scoped>\n",
       "    .dataframe tbody tr th:only-of-type {\n",
       "        vertical-align: middle;\n",
       "    }\n",
       "\n",
       "    .dataframe tbody tr th {\n",
       "        vertical-align: top;\n",
       "    }\n",
       "\n",
       "    .dataframe thead th {\n",
       "        text-align: right;\n",
       "    }\n",
       "</style>\n",
       "<table border=\"1\" class=\"dataframe\">\n",
       "  <thead>\n",
       "    <tr style=\"text-align: right;\">\n",
       "      <th></th>\n",
       "      <th>이름</th>\n",
       "      <th>나이</th>\n",
       "      <th>직업</th>\n",
       "      <th>국적</th>\n",
       "      <th>키</th>\n",
       "      <th>재산</th>\n",
       "    </tr>\n",
       "  </thead>\n",
       "  <tbody>\n",
       "    <tr>\n",
       "      <th>1</th>\n",
       "      <td>토르</td>\n",
       "      <td>45</td>\n",
       "      <td>신</td>\n",
       "      <td>아스가르드</td>\n",
       "      <td>190</td>\n",
       "      <td>NaN</td>\n",
       "    </tr>\n",
       "    <tr>\n",
       "      <th>4</th>\n",
       "      <td>헐크</td>\n",
       "      <td>33</td>\n",
       "      <td>핵물리학자</td>\n",
       "      <td>미국</td>\n",
       "      <td>270</td>\n",
       "      <td>1000000000</td>\n",
       "    </tr>\n",
       "    <tr>\n",
       "      <th>6</th>\n",
       "      <td>블랙위도우</td>\n",
       "      <td>32</td>\n",
       "      <td>스파이</td>\n",
       "      <td>러시아</td>\n",
       "      <td>170</td>\n",
       "      <td>50000000</td>\n",
       "    </tr>\n",
       "  </tbody>\n",
       "</table>\n",
       "</div>"
      ],
      "text/plain": [
       "      이름  나이     직업     국적    키         재산\n",
       "1     토르  45      신  아스가르드  190        NaN\n",
       "4     헐크  33  핵물리학자     미국  270 1000000000\n",
       "6  블랙위도우  32    스파이    러시아  170   50000000"
      ]
     },
     "execution_count": 73,
     "metadata": {},
     "output_type": "execute_result"
    }
   ],
   "source": [
    "df[(df['나이'] > 30) & (df['나이'] < 50)]"
   ]
  },
  {
   "cell_type": "code",
   "execution_count": 9,
   "metadata": {},
   "outputs": [
    {
     "data": {
      "text/html": [
       "<div>\n",
       "<style scoped>\n",
       "    .dataframe tbody tr th:only-of-type {\n",
       "        vertical-align: middle;\n",
       "    }\n",
       "\n",
       "    .dataframe tbody tr th {\n",
       "        vertical-align: top;\n",
       "    }\n",
       "\n",
       "    .dataframe thead th {\n",
       "        text-align: right;\n",
       "    }\n",
       "</style>\n",
       "<table border=\"1\" class=\"dataframe\">\n",
       "  <thead>\n",
       "    <tr style=\"text-align: right;\">\n",
       "      <th></th>\n",
       "      <th>이름</th>\n",
       "      <th>나이</th>\n",
       "      <th>직업</th>\n",
       "    </tr>\n",
       "  </thead>\n",
       "  <tbody>\n",
       "    <tr>\n",
       "      <th>1</th>\n",
       "      <td>토르</td>\n",
       "      <td>45</td>\n",
       "      <td>신</td>\n",
       "    </tr>\n",
       "    <tr>\n",
       "      <th>4</th>\n",
       "      <td>헐크</td>\n",
       "      <td>33</td>\n",
       "      <td>핵물리학자</td>\n",
       "    </tr>\n",
       "    <tr>\n",
       "      <th>6</th>\n",
       "      <td>블랙위도우</td>\n",
       "      <td>32</td>\n",
       "      <td>스파이</td>\n",
       "    </tr>\n",
       "  </tbody>\n",
       "</table>\n",
       "</div>"
      ],
      "text/plain": [
       "      이름  나이     직업\n",
       "1     토르  45      신\n",
       "4     헐크  33  핵물리학자\n",
       "6  블랙위도우  32    스파이"
      ]
     },
     "execution_count": 9,
     "metadata": {},
     "output_type": "execute_result"
    }
   ],
   "source": [
    "df.loc[(df['나이'] > 30) & (df['나이'] < 50),'이름':'직업']\n",
    "\n"
   ]
  },
  {
   "cell_type": "code",
   "execution_count": 12,
   "metadata": {},
   "outputs": [
    {
     "data": {
      "text/html": [
       "<div>\n",
       "<style scoped>\n",
       "    .dataframe tbody tr th:only-of-type {\n",
       "        vertical-align: middle;\n",
       "    }\n",
       "\n",
       "    .dataframe tbody tr th {\n",
       "        vertical-align: top;\n",
       "    }\n",
       "\n",
       "    .dataframe thead th {\n",
       "        text-align: right;\n",
       "    }\n",
       "</style>\n",
       "<table border=\"1\" class=\"dataframe\">\n",
       "  <thead>\n",
       "    <tr style=\"text-align: right;\">\n",
       "      <th></th>\n",
       "      <th>이름</th>\n",
       "      <th>나이</th>\n",
       "      <th>직업</th>\n",
       "      <th>국적</th>\n",
       "      <th>키</th>\n",
       "      <th>재산</th>\n",
       "    </tr>\n",
       "  </thead>\n",
       "  <tbody>\n",
       "    <tr>\n",
       "      <th>0</th>\n",
       "      <td>아이언맨</td>\n",
       "      <td>58</td>\n",
       "      <td>CEO</td>\n",
       "      <td>미국</td>\n",
       "      <td>174</td>\n",
       "      <td>11500000000</td>\n",
       "    </tr>\n",
       "    <tr>\n",
       "      <th>4</th>\n",
       "      <td>헐크</td>\n",
       "      <td>33</td>\n",
       "      <td>핵물리학자</td>\n",
       "      <td>미국</td>\n",
       "      <td>270</td>\n",
       "      <td>1000000000</td>\n",
       "    </tr>\n",
       "    <tr>\n",
       "      <th>5</th>\n",
       "      <td>캡틴마블</td>\n",
       "      <td>25</td>\n",
       "      <td>파일럿</td>\n",
       "      <td>미국</td>\n",
       "      <td>170</td>\n",
       "      <td>340000000</td>\n",
       "    </tr>\n",
       "    <tr>\n",
       "      <th>6</th>\n",
       "      <td>블랙위도우</td>\n",
       "      <td>32</td>\n",
       "      <td>스파이</td>\n",
       "      <td>러시아</td>\n",
       "      <td>170</td>\n",
       "      <td>50000000</td>\n",
       "    </tr>\n",
       "    <tr>\n",
       "      <th>2</th>\n",
       "      <td>스파이더맨</td>\n",
       "      <td>18</td>\n",
       "      <td>고등학생</td>\n",
       "      <td>미국</td>\n",
       "      <td>177</td>\n",
       "      <td>600</td>\n",
       "    </tr>\n",
       "    <tr>\n",
       "      <th>1</th>\n",
       "      <td>토르</td>\n",
       "      <td>45</td>\n",
       "      <td>신</td>\n",
       "      <td>아스가르드</td>\n",
       "      <td>190</td>\n",
       "      <td>NaN</td>\n",
       "    </tr>\n",
       "    <tr>\n",
       "      <th>3</th>\n",
       "      <td>원더우먼</td>\n",
       "      <td>27</td>\n",
       "      <td>공주</td>\n",
       "      <td>데미스키라</td>\n",
       "      <td>178</td>\n",
       "      <td>NaN</td>\n",
       "    </tr>\n",
       "  </tbody>\n",
       "</table>\n",
       "</div>"
      ],
      "text/plain": [
       "      이름  나이     직업     국적    키          재산\n",
       "0   아이언맨  58    CEO     미국  174 11500000000\n",
       "4     헐크  33  핵물리학자     미국  270  1000000000\n",
       "5   캡틴마블  25    파일럿     미국  170   340000000\n",
       "6  블랙위도우  32    스파이    러시아  170    50000000\n",
       "2  스파이더맨  18   고등학생     미국  177         600\n",
       "1     토르  45      신  아스가르드  190         NaN\n",
       "3   원더우먼  27     공주  데미스키라  178         NaN"
      ]
     },
     "execution_count": 12,
     "metadata": {},
     "output_type": "execute_result"
    }
   ],
   "source": [
    "df_a = df.sort_values('키')     #오름차순\n",
    "df_a\n",
    "df_b = df.sort_values('재산',ascending = False)    #내림차순\n",
    "df_b"
   ]
  },
  {
   "cell_type": "code",
   "execution_count": 17,
   "metadata": {},
   "outputs": [
    {
     "data": {
      "text/html": [
       "<div>\n",
       "<style scoped>\n",
       "    .dataframe tbody tr th:only-of-type {\n",
       "        vertical-align: middle;\n",
       "    }\n",
       "\n",
       "    .dataframe tbody tr th {\n",
       "        vertical-align: top;\n",
       "    }\n",
       "\n",
       "    .dataframe thead th {\n",
       "        text-align: right;\n",
       "    }\n",
       "</style>\n",
       "<table border=\"1\" class=\"dataframe\">\n",
       "  <thead>\n",
       "    <tr style=\"text-align: right;\">\n",
       "      <th></th>\n",
       "      <th>이름</th>\n",
       "      <th>나이</th>\n",
       "      <th>직업</th>\n",
       "      <th>국적</th>\n",
       "      <th>키</th>\n",
       "      <th>재산</th>\n",
       "    </tr>\n",
       "  </thead>\n",
       "  <tbody>\n",
       "    <tr>\n",
       "      <th>a</th>\n",
       "      <td>아이언맨</td>\n",
       "      <td>58</td>\n",
       "      <td>CEO</td>\n",
       "      <td>대한민국</td>\n",
       "      <td>174</td>\n",
       "      <td>11500000000</td>\n",
       "    </tr>\n",
       "    <tr>\n",
       "      <th>b</th>\n",
       "      <td>토르</td>\n",
       "      <td>45</td>\n",
       "      <td>신</td>\n",
       "      <td>대한민국</td>\n",
       "      <td>190</td>\n",
       "      <td>NaN</td>\n",
       "    </tr>\n",
       "    <tr>\n",
       "      <th>c</th>\n",
       "      <td>스파이더맨</td>\n",
       "      <td>18</td>\n",
       "      <td>고등학생</td>\n",
       "      <td>대한민국</td>\n",
       "      <td>177</td>\n",
       "      <td>600</td>\n",
       "    </tr>\n",
       "    <tr>\n",
       "      <th>d</th>\n",
       "      <td>원더우먼</td>\n",
       "      <td>27</td>\n",
       "      <td>공주</td>\n",
       "      <td>대한민국</td>\n",
       "      <td>178</td>\n",
       "      <td>NaN</td>\n",
       "    </tr>\n",
       "    <tr>\n",
       "      <th>e</th>\n",
       "      <td>헐크</td>\n",
       "      <td>33</td>\n",
       "      <td>핵물리학자</td>\n",
       "      <td>대한민국</td>\n",
       "      <td>270</td>\n",
       "      <td>1000000000</td>\n",
       "    </tr>\n",
       "    <tr>\n",
       "      <th>f</th>\n",
       "      <td>캡틴마블</td>\n",
       "      <td>25</td>\n",
       "      <td>파일럿</td>\n",
       "      <td>대한민국</td>\n",
       "      <td>170</td>\n",
       "      <td>340000000</td>\n",
       "    </tr>\n",
       "    <tr>\n",
       "      <th>g</th>\n",
       "      <td>블랙위도우</td>\n",
       "      <td>32</td>\n",
       "      <td>스파이</td>\n",
       "      <td>대한민국</td>\n",
       "      <td>170</td>\n",
       "      <td>50000000</td>\n",
       "    </tr>\n",
       "  </tbody>\n",
       "</table>\n",
       "</div>"
      ],
      "text/plain": [
       "      이름  나이     직업    국적    키          재산\n",
       "a   아이언맨  58    CEO  대한민국  174 11500000000\n",
       "b     토르  45      신  대한민국  190         NaN\n",
       "c  스파이더맨  18   고등학생  대한민국  177         600\n",
       "d   원더우먼  27     공주  대한민국  178         NaN\n",
       "e     헐크  33  핵물리학자  대한민국  270  1000000000\n",
       "f   캡틴마블  25    파일럿  대한민국  170   340000000\n",
       "g  블랙위도우  32    스파이  대한민국  170    50000000"
      ]
     },
     "execution_count": 17,
     "metadata": {},
     "output_type": "execute_result"
    }
   ],
   "source": [
    "df2['국적'] = '대한민국'\n",
    "df2"
   ]
  },
  {
   "cell_type": "code",
   "execution_count": 22,
   "metadata": {},
   "outputs": [
    {
     "data": {
      "text/html": [
       "<div>\n",
       "<style scoped>\n",
       "    .dataframe tbody tr th:only-of-type {\n",
       "        vertical-align: middle;\n",
       "    }\n",
       "\n",
       "    .dataframe tbody tr th {\n",
       "        vertical-align: top;\n",
       "    }\n",
       "\n",
       "    .dataframe thead th {\n",
       "        text-align: right;\n",
       "    }\n",
       "</style>\n",
       "<table border=\"1\" class=\"dataframe\">\n",
       "  <thead>\n",
       "    <tr style=\"text-align: right;\">\n",
       "      <th></th>\n",
       "      <th>이름</th>\n",
       "      <th>나이</th>\n",
       "      <th>직업</th>\n",
       "      <th>국적</th>\n",
       "      <th>키</th>\n",
       "      <th>재산</th>\n",
       "      <th>전투력</th>\n",
       "    </tr>\n",
       "  </thead>\n",
       "  <tbody>\n",
       "    <tr>\n",
       "      <th>a</th>\n",
       "      <td>아이언맨</td>\n",
       "      <td>58</td>\n",
       "      <td>CEO</td>\n",
       "      <td>대한민국</td>\n",
       "      <td>174</td>\n",
       "      <td>11500000000</td>\n",
       "      <td>98</td>\n",
       "    </tr>\n",
       "    <tr>\n",
       "      <th>b</th>\n",
       "      <td>토르</td>\n",
       "      <td>45</td>\n",
       "      <td>신</td>\n",
       "      <td>대한민국</td>\n",
       "      <td>190</td>\n",
       "      <td>NaN</td>\n",
       "      <td>100</td>\n",
       "    </tr>\n",
       "    <tr>\n",
       "      <th>c</th>\n",
       "      <td>스파이더맨</td>\n",
       "      <td>18</td>\n",
       "      <td>고등학생</td>\n",
       "      <td>대한민국</td>\n",
       "      <td>177</td>\n",
       "      <td>600</td>\n",
       "      <td>90</td>\n",
       "    </tr>\n",
       "    <tr>\n",
       "      <th>d</th>\n",
       "      <td>원더우먼</td>\n",
       "      <td>27</td>\n",
       "      <td>공주</td>\n",
       "      <td>대한민국</td>\n",
       "      <td>178</td>\n",
       "      <td>NaN</td>\n",
       "      <td>59</td>\n",
       "    </tr>\n",
       "    <tr>\n",
       "      <th>e</th>\n",
       "      <td>헐크</td>\n",
       "      <td>33</td>\n",
       "      <td>핵물리학자</td>\n",
       "      <td>대한민국</td>\n",
       "      <td>270</td>\n",
       "      <td>1000000000</td>\n",
       "      <td>100</td>\n",
       "    </tr>\n",
       "    <tr>\n",
       "      <th>f</th>\n",
       "      <td>캡틴마블</td>\n",
       "      <td>25</td>\n",
       "      <td>파일럿</td>\n",
       "      <td>대한민국</td>\n",
       "      <td>170</td>\n",
       "      <td>340000000</td>\n",
       "      <td>89</td>\n",
       "    </tr>\n",
       "    <tr>\n",
       "      <th>g</th>\n",
       "      <td>블랙위도우</td>\n",
       "      <td>32</td>\n",
       "      <td>스파이</td>\n",
       "      <td>대한민국</td>\n",
       "      <td>170</td>\n",
       "      <td>50000000</td>\n",
       "      <td>10</td>\n",
       "    </tr>\n",
       "  </tbody>\n",
       "</table>\n",
       "</div>"
      ],
      "text/plain": [
       "      이름  나이     직업    국적    키          재산  전투력\n",
       "a   아이언맨  58    CEO  대한민국  174 11500000000   98\n",
       "b     토르  45      신  대한민국  190         NaN  100\n",
       "c  스파이더맨  18   고등학생  대한민국  177         600   90\n",
       "d   원더우먼  27     공주  대한민국  178         NaN   59\n",
       "e     헐크  33  핵물리학자  대한민국  270  1000000000  100\n",
       "f   캡틴마블  25    파일럿  대한민국  170   340000000   89\n",
       "g  블랙위도우  32    스파이  대한민국  170    50000000   10"
      ]
     },
     "execution_count": 22,
     "metadata": {},
     "output_type": "execute_result"
    }
   ],
   "source": [
    "df2['전투력'] = [98,100,90,59,100,89,10]\n",
    "df2"
   ]
  },
  {
   "cell_type": "code",
   "execution_count": 23,
   "metadata": {},
   "outputs": [
    {
     "data": {
      "text/html": [
       "<div>\n",
       "<style scoped>\n",
       "    .dataframe tbody tr th:only-of-type {\n",
       "        vertical-align: middle;\n",
       "    }\n",
       "\n",
       "    .dataframe tbody tr th {\n",
       "        vertical-align: top;\n",
       "    }\n",
       "\n",
       "    .dataframe thead th {\n",
       "        text-align: right;\n",
       "    }\n",
       "</style>\n",
       "<table border=\"1\" class=\"dataframe\">\n",
       "  <thead>\n",
       "    <tr style=\"text-align: right;\">\n",
       "      <th></th>\n",
       "      <th>이름</th>\n",
       "      <th>나이</th>\n",
       "      <th>직업</th>\n",
       "      <th>국적</th>\n",
       "      <th>키</th>\n",
       "      <th>재산</th>\n",
       "      <th>전투력</th>\n",
       "    </tr>\n",
       "  </thead>\n",
       "  <tbody>\n",
       "    <tr>\n",
       "      <th>a</th>\n",
       "      <td>아이언맨</td>\n",
       "      <td>58</td>\n",
       "      <td>CEO</td>\n",
       "      <td>대한민국</td>\n",
       "      <td>174</td>\n",
       "      <td>11500000000</td>\n",
       "      <td>93</td>\n",
       "    </tr>\n",
       "    <tr>\n",
       "      <th>b</th>\n",
       "      <td>토르</td>\n",
       "      <td>45</td>\n",
       "      <td>신</td>\n",
       "      <td>대한민국</td>\n",
       "      <td>190</td>\n",
       "      <td>NaN</td>\n",
       "      <td>95</td>\n",
       "    </tr>\n",
       "    <tr>\n",
       "      <th>c</th>\n",
       "      <td>스파이더맨</td>\n",
       "      <td>18</td>\n",
       "      <td>고등학생</td>\n",
       "      <td>대한민국</td>\n",
       "      <td>177</td>\n",
       "      <td>600</td>\n",
       "      <td>85</td>\n",
       "    </tr>\n",
       "    <tr>\n",
       "      <th>d</th>\n",
       "      <td>원더우먼</td>\n",
       "      <td>27</td>\n",
       "      <td>공주</td>\n",
       "      <td>대한민국</td>\n",
       "      <td>178</td>\n",
       "      <td>NaN</td>\n",
       "      <td>54</td>\n",
       "    </tr>\n",
       "    <tr>\n",
       "      <th>e</th>\n",
       "      <td>헐크</td>\n",
       "      <td>33</td>\n",
       "      <td>핵물리학자</td>\n",
       "      <td>대한민국</td>\n",
       "      <td>270</td>\n",
       "      <td>1000000000</td>\n",
       "      <td>95</td>\n",
       "    </tr>\n",
       "    <tr>\n",
       "      <th>f</th>\n",
       "      <td>캡틴마블</td>\n",
       "      <td>25</td>\n",
       "      <td>파일럿</td>\n",
       "      <td>대한민국</td>\n",
       "      <td>170</td>\n",
       "      <td>340000000</td>\n",
       "      <td>84</td>\n",
       "    </tr>\n",
       "    <tr>\n",
       "      <th>g</th>\n",
       "      <td>블랙위도우</td>\n",
       "      <td>32</td>\n",
       "      <td>스파이</td>\n",
       "      <td>대한민국</td>\n",
       "      <td>170</td>\n",
       "      <td>50000000</td>\n",
       "      <td>5</td>\n",
       "    </tr>\n",
       "  </tbody>\n",
       "</table>\n",
       "</div>"
      ],
      "text/plain": [
       "      이름  나이     직업    국적    키          재산  전투력\n",
       "a   아이언맨  58    CEO  대한민국  174 11500000000   93\n",
       "b     토르  45      신  대한민국  190         NaN   95\n",
       "c  스파이더맨  18   고등학생  대한민국  177         600   85\n",
       "d   원더우먼  27     공주  대한민국  178         NaN   54\n",
       "e     헐크  33  핵물리학자  대한민국  270  1000000000   95\n",
       "f   캡틴마블  25    파일럿  대한민국  170   340000000   84\n",
       "g  블랙위도우  32    스파이  대한민국  170    50000000    5"
      ]
     },
     "execution_count": 23,
     "metadata": {},
     "output_type": "execute_result"
    }
   ],
   "source": [
    "df2['전투력'] -= 5\n",
    "df2"
   ]
  },
  {
   "cell_type": "code",
   "execution_count": 24,
   "metadata": {},
   "outputs": [
    {
     "data": {
      "text/html": [
       "<div>\n",
       "<style scoped>\n",
       "    .dataframe tbody tr th:only-of-type {\n",
       "        vertical-align: middle;\n",
       "    }\n",
       "\n",
       "    .dataframe tbody tr th {\n",
       "        vertical-align: top;\n",
       "    }\n",
       "\n",
       "    .dataframe thead th {\n",
       "        text-align: right;\n",
       "    }\n",
       "</style>\n",
       "<table border=\"1\" class=\"dataframe\">\n",
       "  <thead>\n",
       "    <tr style=\"text-align: right;\">\n",
       "      <th></th>\n",
       "      <th>성명</th>\n",
       "      <th>연령</th>\n",
       "      <th>하는일</th>\n",
       "      <th>출신국가</th>\n",
       "      <th>신장</th>\n",
       "      <th>재산현황</th>\n",
       "      <th>파워</th>\n",
       "    </tr>\n",
       "  </thead>\n",
       "  <tbody>\n",
       "    <tr>\n",
       "      <th>a</th>\n",
       "      <td>아이언맨</td>\n",
       "      <td>58</td>\n",
       "      <td>CEO</td>\n",
       "      <td>대한민국</td>\n",
       "      <td>174</td>\n",
       "      <td>11500000000</td>\n",
       "      <td>93</td>\n",
       "    </tr>\n",
       "    <tr>\n",
       "      <th>b</th>\n",
       "      <td>토르</td>\n",
       "      <td>45</td>\n",
       "      <td>신</td>\n",
       "      <td>대한민국</td>\n",
       "      <td>190</td>\n",
       "      <td>NaN</td>\n",
       "      <td>95</td>\n",
       "    </tr>\n",
       "    <tr>\n",
       "      <th>c</th>\n",
       "      <td>스파이더맨</td>\n",
       "      <td>18</td>\n",
       "      <td>고등학생</td>\n",
       "      <td>대한민국</td>\n",
       "      <td>177</td>\n",
       "      <td>600</td>\n",
       "      <td>85</td>\n",
       "    </tr>\n",
       "    <tr>\n",
       "      <th>d</th>\n",
       "      <td>원더우먼</td>\n",
       "      <td>27</td>\n",
       "      <td>공주</td>\n",
       "      <td>대한민국</td>\n",
       "      <td>178</td>\n",
       "      <td>NaN</td>\n",
       "      <td>54</td>\n",
       "    </tr>\n",
       "    <tr>\n",
       "      <th>e</th>\n",
       "      <td>헐크</td>\n",
       "      <td>33</td>\n",
       "      <td>핵물리학자</td>\n",
       "      <td>대한민국</td>\n",
       "      <td>270</td>\n",
       "      <td>1000000000</td>\n",
       "      <td>95</td>\n",
       "    </tr>\n",
       "    <tr>\n",
       "      <th>f</th>\n",
       "      <td>캡틴마블</td>\n",
       "      <td>25</td>\n",
       "      <td>파일럿</td>\n",
       "      <td>대한민국</td>\n",
       "      <td>170</td>\n",
       "      <td>340000000</td>\n",
       "      <td>84</td>\n",
       "    </tr>\n",
       "    <tr>\n",
       "      <th>g</th>\n",
       "      <td>블랙위도우</td>\n",
       "      <td>32</td>\n",
       "      <td>스파이</td>\n",
       "      <td>대한민국</td>\n",
       "      <td>170</td>\n",
       "      <td>50000000</td>\n",
       "      <td>5</td>\n",
       "    </tr>\n",
       "  </tbody>\n",
       "</table>\n",
       "</div>"
      ],
      "text/plain": [
       "      성명  연령    하는일  출신국가   신장        재산현황  파워\n",
       "a   아이언맨  58    CEO  대한민국  174 11500000000  93\n",
       "b     토르  45      신  대한민국  190         NaN  95\n",
       "c  스파이더맨  18   고등학생  대한민국  177         600  85\n",
       "d   원더우먼  27     공주  대한민국  178         NaN  54\n",
       "e     헐크  33  핵물리학자  대한민국  270  1000000000  95\n",
       "f   캡틴마블  25    파일럿  대한민국  170   340000000  84\n",
       "g  블랙위도우  32    스파이  대한민국  170    50000000   5"
      ]
     },
     "execution_count": 24,
     "metadata": {},
     "output_type": "execute_result"
    }
   ],
   "source": [
    "df2.columns = ['성명','연령','하는일','출신국가','신장','재산현황','파워']\n",
    "df2"
   ]
  },
  {
   "cell_type": "code",
   "execution_count": 27,
   "metadata": {},
   "outputs": [],
   "source": [
    "df2.drop(index = ['a'], inplace = True)     #index 삭제(행),inplace = True여야 df2 값이 바뀜"
   ]
  },
  {
   "cell_type": "code",
   "execution_count": 29,
   "metadata": {},
   "outputs": [],
   "source": [
    "df2.drop(columns='파워', inplace = True)"
   ]
  },
  {
   "cell_type": "code",
   "execution_count": 30,
   "metadata": {},
   "outputs": [
    {
     "data": {
      "text/html": [
       "<div>\n",
       "<style scoped>\n",
       "    .dataframe tbody tr th:only-of-type {\n",
       "        vertical-align: middle;\n",
       "    }\n",
       "\n",
       "    .dataframe tbody tr th {\n",
       "        vertical-align: top;\n",
       "    }\n",
       "\n",
       "    .dataframe thead th {\n",
       "        text-align: right;\n",
       "    }\n",
       "</style>\n",
       "<table border=\"1\" class=\"dataframe\">\n",
       "  <thead>\n",
       "    <tr style=\"text-align: right;\">\n",
       "      <th></th>\n",
       "      <th>성명</th>\n",
       "      <th>연령</th>\n",
       "      <th>하는일</th>\n",
       "      <th>출신국가</th>\n",
       "      <th>신장</th>\n",
       "      <th>재산현황</th>\n",
       "    </tr>\n",
       "  </thead>\n",
       "  <tbody>\n",
       "    <tr>\n",
       "      <th>b</th>\n",
       "      <td>토르</td>\n",
       "      <td>45</td>\n",
       "      <td>신</td>\n",
       "      <td>대한민국</td>\n",
       "      <td>190</td>\n",
       "      <td>NaN</td>\n",
       "    </tr>\n",
       "    <tr>\n",
       "      <th>c</th>\n",
       "      <td>스파이더맨</td>\n",
       "      <td>18</td>\n",
       "      <td>고등학생</td>\n",
       "      <td>대한민국</td>\n",
       "      <td>177</td>\n",
       "      <td>600</td>\n",
       "    </tr>\n",
       "    <tr>\n",
       "      <th>d</th>\n",
       "      <td>원더우먼</td>\n",
       "      <td>27</td>\n",
       "      <td>공주</td>\n",
       "      <td>대한민국</td>\n",
       "      <td>178</td>\n",
       "      <td>NaN</td>\n",
       "    </tr>\n",
       "    <tr>\n",
       "      <th>e</th>\n",
       "      <td>헐크</td>\n",
       "      <td>33</td>\n",
       "      <td>핵물리학자</td>\n",
       "      <td>대한민국</td>\n",
       "      <td>270</td>\n",
       "      <td>1000000000</td>\n",
       "    </tr>\n",
       "    <tr>\n",
       "      <th>f</th>\n",
       "      <td>캡틴마블</td>\n",
       "      <td>25</td>\n",
       "      <td>파일럿</td>\n",
       "      <td>대한민국</td>\n",
       "      <td>170</td>\n",
       "      <td>340000000</td>\n",
       "    </tr>\n",
       "    <tr>\n",
       "      <th>g</th>\n",
       "      <td>블랙위도우</td>\n",
       "      <td>32</td>\n",
       "      <td>스파이</td>\n",
       "      <td>대한민국</td>\n",
       "      <td>170</td>\n",
       "      <td>50000000</td>\n",
       "    </tr>\n",
       "  </tbody>\n",
       "</table>\n",
       "</div>"
      ],
      "text/plain": [
       "      성명  연령    하는일  출신국가   신장       재산현황\n",
       "b     토르  45      신  대한민국  190        NaN\n",
       "c  스파이더맨  18   고등학생  대한민국  177        600\n",
       "d   원더우먼  27     공주  대한민국  178        NaN\n",
       "e     헐크  33  핵물리학자  대한민국  270 1000000000\n",
       "f   캡틴마블  25    파일럿  대한민국  170  340000000\n",
       "g  블랙위도우  32    스파이  대한민국  170   50000000"
      ]
     },
     "execution_count": 30,
     "metadata": {},
     "output_type": "execute_result"
    }
   ],
   "source": [
    "df2"
   ]
  },
  {
   "cell_type": "code",
   "execution_count": 31,
   "metadata": {},
   "outputs": [
    {
     "data": {
      "text/html": [
       "<div>\n",
       "<style scoped>\n",
       "    .dataframe tbody tr th:only-of-type {\n",
       "        vertical-align: middle;\n",
       "    }\n",
       "\n",
       "    .dataframe tbody tr th {\n",
       "        vertical-align: top;\n",
       "    }\n",
       "\n",
       "    .dataframe thead th {\n",
       "        text-align: right;\n",
       "    }\n",
       "</style>\n",
       "<table border=\"1\" class=\"dataframe\">\n",
       "  <thead>\n",
       "    <tr style=\"text-align: right;\">\n",
       "      <th></th>\n",
       "      <th>성명</th>\n",
       "      <th>연령</th>\n",
       "      <th>하는일</th>\n",
       "      <th>출신국가</th>\n",
       "      <th>신장</th>\n",
       "      <th>재산현황</th>\n",
       "    </tr>\n",
       "  </thead>\n",
       "  <tbody>\n",
       "    <tr>\n",
       "      <th>c</th>\n",
       "      <td>스파이더맨</td>\n",
       "      <td>18</td>\n",
       "      <td>고등학생</td>\n",
       "      <td>대한민국</td>\n",
       "      <td>177</td>\n",
       "      <td>600</td>\n",
       "    </tr>\n",
       "    <tr>\n",
       "      <th>e</th>\n",
       "      <td>헐크</td>\n",
       "      <td>33</td>\n",
       "      <td>핵물리학자</td>\n",
       "      <td>대한민국</td>\n",
       "      <td>270</td>\n",
       "      <td>1000000000</td>\n",
       "    </tr>\n",
       "    <tr>\n",
       "      <th>f</th>\n",
       "      <td>캡틴마블</td>\n",
       "      <td>25</td>\n",
       "      <td>파일럿</td>\n",
       "      <td>대한민국</td>\n",
       "      <td>170</td>\n",
       "      <td>340000000</td>\n",
       "    </tr>\n",
       "    <tr>\n",
       "      <th>g</th>\n",
       "      <td>블랙위도우</td>\n",
       "      <td>32</td>\n",
       "      <td>스파이</td>\n",
       "      <td>대한민국</td>\n",
       "      <td>170</td>\n",
       "      <td>50000000</td>\n",
       "    </tr>\n",
       "  </tbody>\n",
       "</table>\n",
       "</div>"
      ],
      "text/plain": [
       "      성명  연령    하는일  출신국가   신장       재산현황\n",
       "c  스파이더맨  18   고등학생  대한민국  177        600\n",
       "e     헐크  33  핵물리학자  대한민국  270 1000000000\n",
       "f   캡틴마블  25    파일럿  대한민국  170  340000000\n",
       "g  블랙위도우  32    스파이  대한민국  170   50000000"
      ]
     },
     "execution_count": 31,
     "metadata": {},
     "output_type": "execute_result"
    }
   ],
   "source": [
    "df2.dropna()        #nan 있는거 제거"
   ]
  },
  {
   "cell_type": "code",
   "execution_count": 35,
   "metadata": {},
   "outputs": [
    {
     "data": {
      "text/html": [
       "<div>\n",
       "<style scoped>\n",
       "    .dataframe tbody tr th:only-of-type {\n",
       "        vertical-align: middle;\n",
       "    }\n",
       "\n",
       "    .dataframe tbody tr th {\n",
       "        vertical-align: top;\n",
       "    }\n",
       "\n",
       "    .dataframe thead th {\n",
       "        text-align: right;\n",
       "    }\n",
       "</style>\n",
       "<table border=\"1\" class=\"dataframe\">\n",
       "  <thead>\n",
       "    <tr style=\"text-align: right;\">\n",
       "      <th></th>\n",
       "      <th>성명</th>\n",
       "      <th>연령</th>\n",
       "      <th>하는일</th>\n",
       "      <th>출신국가</th>\n",
       "      <th>신장</th>\n",
       "      <th>재산현황</th>\n",
       "    </tr>\n",
       "  </thead>\n",
       "  <tbody>\n",
       "    <tr>\n",
       "      <th>c</th>\n",
       "      <td>스파이더맨</td>\n",
       "      <td>18</td>\n",
       "      <td>고등학생</td>\n",
       "      <td>대한민국</td>\n",
       "      <td>177</td>\n",
       "      <td>600</td>\n",
       "    </tr>\n",
       "    <tr>\n",
       "      <th>e</th>\n",
       "      <td>헐크</td>\n",
       "      <td>33</td>\n",
       "      <td>핵물리학자</td>\n",
       "      <td>대한민국</td>\n",
       "      <td>270</td>\n",
       "      <td>1000000000</td>\n",
       "    </tr>\n",
       "    <tr>\n",
       "      <th>f</th>\n",
       "      <td>캡틴마블</td>\n",
       "      <td>25</td>\n",
       "      <td>파일럿</td>\n",
       "      <td>대한민국</td>\n",
       "      <td>170</td>\n",
       "      <td>340000000</td>\n",
       "    </tr>\n",
       "    <tr>\n",
       "      <th>g</th>\n",
       "      <td>블랙위도우</td>\n",
       "      <td>32</td>\n",
       "      <td>스파이</td>\n",
       "      <td>대한민국</td>\n",
       "      <td>170</td>\n",
       "      <td>50000000</td>\n",
       "    </tr>\n",
       "  </tbody>\n",
       "</table>\n",
       "</div>"
      ],
      "text/plain": [
       "      성명  연령    하는일  출신국가   신장       재산현황\n",
       "c  스파이더맨  18   고등학생  대한민국  177        600\n",
       "e     헐크  33  핵물리학자  대한민국  270 1000000000\n",
       "f   캡틴마블  25    파일럿  대한민국  170  340000000\n",
       "g  블랙위도우  32    스파이  대한민국  170   50000000"
      ]
     },
     "execution_count": 35,
     "metadata": {},
     "output_type": "execute_result"
    }
   ],
   "source": [
    "df2.dropna(axis=0)  #nan 있는 col 자체를 삭제, (axis = 0 행), (axis = 1 열)"
   ]
  },
  {
   "cell_type": "code",
   "execution_count": 38,
   "metadata": {},
   "outputs": [
    {
     "data": {
      "text/html": [
       "<div>\n",
       "<style scoped>\n",
       "    .dataframe tbody tr th:only-of-type {\n",
       "        vertical-align: middle;\n",
       "    }\n",
       "\n",
       "    .dataframe tbody tr th {\n",
       "        vertical-align: top;\n",
       "    }\n",
       "\n",
       "    .dataframe thead th {\n",
       "        text-align: right;\n",
       "    }\n",
       "</style>\n",
       "<table border=\"1\" class=\"dataframe\">\n",
       "  <thead>\n",
       "    <tr style=\"text-align: right;\">\n",
       "      <th></th>\n",
       "      <th>성명</th>\n",
       "      <th>연령</th>\n",
       "      <th>하는일</th>\n",
       "      <th>출신국가</th>\n",
       "      <th>신장</th>\n",
       "      <th>재산현황</th>\n",
       "    </tr>\n",
       "  </thead>\n",
       "  <tbody>\n",
       "    <tr>\n",
       "      <th>b</th>\n",
       "      <td>토르</td>\n",
       "      <td>45</td>\n",
       "      <td>신</td>\n",
       "      <td>대한민국</td>\n",
       "      <td>190</td>\n",
       "      <td>777</td>\n",
       "    </tr>\n",
       "    <tr>\n",
       "      <th>c</th>\n",
       "      <td>스파이더맨</td>\n",
       "      <td>18</td>\n",
       "      <td>고등학생</td>\n",
       "      <td>대한민국</td>\n",
       "      <td>177</td>\n",
       "      <td>600</td>\n",
       "    </tr>\n",
       "    <tr>\n",
       "      <th>d</th>\n",
       "      <td>원더우먼</td>\n",
       "      <td>27</td>\n",
       "      <td>공주</td>\n",
       "      <td>대한민국</td>\n",
       "      <td>178</td>\n",
       "      <td>777</td>\n",
       "    </tr>\n",
       "    <tr>\n",
       "      <th>e</th>\n",
       "      <td>헐크</td>\n",
       "      <td>33</td>\n",
       "      <td>핵물리학자</td>\n",
       "      <td>대한민국</td>\n",
       "      <td>270</td>\n",
       "      <td>1000000000</td>\n",
       "    </tr>\n",
       "    <tr>\n",
       "      <th>f</th>\n",
       "      <td>캡틴마블</td>\n",
       "      <td>25</td>\n",
       "      <td>파일럿</td>\n",
       "      <td>대한민국</td>\n",
       "      <td>170</td>\n",
       "      <td>340000000</td>\n",
       "    </tr>\n",
       "    <tr>\n",
       "      <th>g</th>\n",
       "      <td>블랙위도우</td>\n",
       "      <td>32</td>\n",
       "      <td>스파이</td>\n",
       "      <td>대한민국</td>\n",
       "      <td>170</td>\n",
       "      <td>50000000</td>\n",
       "    </tr>\n",
       "  </tbody>\n",
       "</table>\n",
       "</div>"
      ],
      "text/plain": [
       "      성명  연령    하는일  출신국가   신장       재산현황\n",
       "b     토르  45      신  대한민국  190        777\n",
       "c  스파이더맨  18   고등학생  대한민국  177        600\n",
       "d   원더우먼  27     공주  대한민국  178        777\n",
       "e     헐크  33  핵물리학자  대한민국  270 1000000000\n",
       "f   캡틴마블  25    파일럿  대한민국  170  340000000\n",
       "g  블랙위도우  32    스파이  대한민국  170   50000000"
      ]
     },
     "execution_count": 38,
     "metadata": {},
     "output_type": "execute_result"
    }
   ],
   "source": [
    "df2.fillna(777)   #nan값을 특정값으로 채움"
   ]
  },
  {
   "cell_type": "code",
   "execution_count": 40,
   "metadata": {},
   "outputs": [
    {
     "name": "stderr",
     "output_type": "stream",
     "text": [
      "C:\\Users\\EL0017\\AppData\\Local\\Temp\\ipykernel_15652\\3106498531.py:1: FutureWarning: DataFrame.fillna with 'method' is deprecated and will raise in a future version. Use obj.ffill() or obj.bfill() instead.\n",
      "  df2.fillna(method = 'ffill')\n"
     ]
    },
    {
     "data": {
      "text/html": [
       "<div>\n",
       "<style scoped>\n",
       "    .dataframe tbody tr th:only-of-type {\n",
       "        vertical-align: middle;\n",
       "    }\n",
       "\n",
       "    .dataframe tbody tr th {\n",
       "        vertical-align: top;\n",
       "    }\n",
       "\n",
       "    .dataframe thead th {\n",
       "        text-align: right;\n",
       "    }\n",
       "</style>\n",
       "<table border=\"1\" class=\"dataframe\">\n",
       "  <thead>\n",
       "    <tr style=\"text-align: right;\">\n",
       "      <th></th>\n",
       "      <th>성명</th>\n",
       "      <th>연령</th>\n",
       "      <th>하는일</th>\n",
       "      <th>출신국가</th>\n",
       "      <th>신장</th>\n",
       "      <th>재산현황</th>\n",
       "    </tr>\n",
       "  </thead>\n",
       "  <tbody>\n",
       "    <tr>\n",
       "      <th>b</th>\n",
       "      <td>토르</td>\n",
       "      <td>45</td>\n",
       "      <td>신</td>\n",
       "      <td>대한민국</td>\n",
       "      <td>190</td>\n",
       "      <td>NaN</td>\n",
       "    </tr>\n",
       "    <tr>\n",
       "      <th>c</th>\n",
       "      <td>스파이더맨</td>\n",
       "      <td>18</td>\n",
       "      <td>고등학생</td>\n",
       "      <td>대한민국</td>\n",
       "      <td>177</td>\n",
       "      <td>600</td>\n",
       "    </tr>\n",
       "    <tr>\n",
       "      <th>d</th>\n",
       "      <td>원더우먼</td>\n",
       "      <td>27</td>\n",
       "      <td>공주</td>\n",
       "      <td>대한민국</td>\n",
       "      <td>178</td>\n",
       "      <td>600</td>\n",
       "    </tr>\n",
       "    <tr>\n",
       "      <th>e</th>\n",
       "      <td>헐크</td>\n",
       "      <td>33</td>\n",
       "      <td>핵물리학자</td>\n",
       "      <td>대한민국</td>\n",
       "      <td>270</td>\n",
       "      <td>1000000000</td>\n",
       "    </tr>\n",
       "    <tr>\n",
       "      <th>f</th>\n",
       "      <td>캡틴마블</td>\n",
       "      <td>25</td>\n",
       "      <td>파일럿</td>\n",
       "      <td>대한민국</td>\n",
       "      <td>170</td>\n",
       "      <td>340000000</td>\n",
       "    </tr>\n",
       "    <tr>\n",
       "      <th>g</th>\n",
       "      <td>블랙위도우</td>\n",
       "      <td>32</td>\n",
       "      <td>스파이</td>\n",
       "      <td>대한민국</td>\n",
       "      <td>170</td>\n",
       "      <td>50000000</td>\n",
       "    </tr>\n",
       "  </tbody>\n",
       "</table>\n",
       "</div>"
      ],
      "text/plain": [
       "      성명  연령    하는일  출신국가   신장       재산현황\n",
       "b     토르  45      신  대한민국  190        NaN\n",
       "c  스파이더맨  18   고등학생  대한민국  177        600\n",
       "d   원더우먼  27     공주  대한민국  178        600\n",
       "e     헐크  33  핵물리학자  대한민국  270 1000000000\n",
       "f   캡틴마블  25    파일럿  대한민국  170  340000000\n",
       "g  블랙위도우  32    스파이  대한민국  170   50000000"
      ]
     },
     "execution_count": 40,
     "metadata": {},
     "output_type": "execute_result"
    }
   ],
   "source": [
    "df2.fillna(method = 'ffill')    #이전값으로 채우기"
   ]
  },
  {
   "cell_type": "code",
   "execution_count": 41,
   "metadata": {},
   "outputs": [
    {
     "name": "stderr",
     "output_type": "stream",
     "text": [
      "C:\\Users\\EL0017\\AppData\\Local\\Temp\\ipykernel_15652\\3367196496.py:1: FutureWarning: DataFrame.fillna with 'method' is deprecated and will raise in a future version. Use obj.ffill() or obj.bfill() instead.\n",
      "  df2.fillna(method = 'bfill')    #다음값으로 채우기\n"
     ]
    },
    {
     "data": {
      "text/html": [
       "<div>\n",
       "<style scoped>\n",
       "    .dataframe tbody tr th:only-of-type {\n",
       "        vertical-align: middle;\n",
       "    }\n",
       "\n",
       "    .dataframe tbody tr th {\n",
       "        vertical-align: top;\n",
       "    }\n",
       "\n",
       "    .dataframe thead th {\n",
       "        text-align: right;\n",
       "    }\n",
       "</style>\n",
       "<table border=\"1\" class=\"dataframe\">\n",
       "  <thead>\n",
       "    <tr style=\"text-align: right;\">\n",
       "      <th></th>\n",
       "      <th>성명</th>\n",
       "      <th>연령</th>\n",
       "      <th>하는일</th>\n",
       "      <th>출신국가</th>\n",
       "      <th>신장</th>\n",
       "      <th>재산현황</th>\n",
       "    </tr>\n",
       "  </thead>\n",
       "  <tbody>\n",
       "    <tr>\n",
       "      <th>b</th>\n",
       "      <td>토르</td>\n",
       "      <td>45</td>\n",
       "      <td>신</td>\n",
       "      <td>대한민국</td>\n",
       "      <td>190</td>\n",
       "      <td>600</td>\n",
       "    </tr>\n",
       "    <tr>\n",
       "      <th>c</th>\n",
       "      <td>스파이더맨</td>\n",
       "      <td>18</td>\n",
       "      <td>고등학생</td>\n",
       "      <td>대한민국</td>\n",
       "      <td>177</td>\n",
       "      <td>600</td>\n",
       "    </tr>\n",
       "    <tr>\n",
       "      <th>d</th>\n",
       "      <td>원더우먼</td>\n",
       "      <td>27</td>\n",
       "      <td>공주</td>\n",
       "      <td>대한민국</td>\n",
       "      <td>178</td>\n",
       "      <td>1000000000</td>\n",
       "    </tr>\n",
       "    <tr>\n",
       "      <th>e</th>\n",
       "      <td>헐크</td>\n",
       "      <td>33</td>\n",
       "      <td>핵물리학자</td>\n",
       "      <td>대한민국</td>\n",
       "      <td>270</td>\n",
       "      <td>1000000000</td>\n",
       "    </tr>\n",
       "    <tr>\n",
       "      <th>f</th>\n",
       "      <td>캡틴마블</td>\n",
       "      <td>25</td>\n",
       "      <td>파일럿</td>\n",
       "      <td>대한민국</td>\n",
       "      <td>170</td>\n",
       "      <td>340000000</td>\n",
       "    </tr>\n",
       "    <tr>\n",
       "      <th>g</th>\n",
       "      <td>블랙위도우</td>\n",
       "      <td>32</td>\n",
       "      <td>스파이</td>\n",
       "      <td>대한민국</td>\n",
       "      <td>170</td>\n",
       "      <td>50000000</td>\n",
       "    </tr>\n",
       "  </tbody>\n",
       "</table>\n",
       "</div>"
      ],
      "text/plain": [
       "      성명  연령    하는일  출신국가   신장       재산현황\n",
       "b     토르  45      신  대한민국  190        600\n",
       "c  스파이더맨  18   고등학생  대한민국  177        600\n",
       "d   원더우먼  27     공주  대한민국  178 1000000000\n",
       "e     헐크  33  핵물리학자  대한민국  270 1000000000\n",
       "f   캡틴마블  25    파일럿  대한민국  170  340000000\n",
       "g  블랙위도우  32    스파이  대한민국  170   50000000"
      ]
     },
     "execution_count": 41,
     "metadata": {},
     "output_type": "execute_result"
    }
   ],
   "source": [
    "df2.fillna(method = 'bfill')    #다음값으로 채우기"
   ]
  },
  {
   "cell_type": "code",
   "execution_count": 43,
   "metadata": {},
   "outputs": [
    {
     "data": {
      "text/plain": [
       "np.float64(347500150.0)"
      ]
     },
     "execution_count": 43,
     "metadata": {},
     "output_type": "execute_result"
    }
   ],
   "source": [
    "df2['재산현황'].mean()      #평균"
   ]
  },
  {
   "cell_type": "code",
   "execution_count": 44,
   "metadata": {},
   "outputs": [
    {
     "data": {
      "text/plain": [
       "b    347500150\n",
       "c          600\n",
       "d    347500150\n",
       "e   1000000000\n",
       "f    340000000\n",
       "g     50000000\n",
       "Name: 재산현황, dtype: float64"
      ]
     },
     "execution_count": 44,
     "metadata": {},
     "output_type": "execute_result"
    }
   ],
   "source": [
    "df2['재산현황'].fillna(df2['재산현황'].mean())"
   ]
  },
  {
   "cell_type": "code",
   "execution_count": null,
   "metadata": {},
   "outputs": [],
   "source": []
  }
 ],
 "metadata": {
  "kernelspec": {
   "display_name": "Python 3",
   "language": "python",
   "name": "python3"
  },
  "language_info": {
   "codemirror_mode": {
    "name": "ipython",
    "version": 3
   },
   "file_extension": ".py",
   "mimetype": "text/x-python",
   "name": "python",
   "nbconvert_exporter": "python",
   "pygments_lexer": "ipython3",
   "version": "3.13.1"
  }
 },
 "nbformat": 4,
 "nbformat_minor": 2
}
