{
 "cells": [
  {
   "cell_type": "markdown",
   "metadata": {},
   "source": [
    "# 2024 - 12 - 27"
   ]
  },
  {
   "cell_type": "code",
   "execution_count": 4,
   "metadata": {},
   "outputs": [
    {
     "name": "stdout",
     "output_type": "stream",
     "text": [
      "success\n",
      "hello\n"
     ]
    }
   ],
   "source": [
    "score = 70\n",
    "if score >= 60:\n",
    "    message = 'success'\n",
    "else:\n",
    "    message = 'failure'\n",
    "print(message)\n",
    "\n",
    "score = 50\n",
    "message = 'hi' if score >= 60 else 'hello'\n",
    "print(message)"
   ]
  },
  {
   "cell_type": "markdown",
   "metadata": {},
   "source": [
    "## 리스트 컴프리헨션\n",
    "### [표현식 for 항목 in iterable]\n",
    "### 표현식 : 각 항목을 처리한 후 생성할 값을 지정\n",
    "### for 항목 in iterable : 반복할 대상(iterable, 예 : 리스트, 문자열 등)"
   ]
  },
  {
   "cell_type": "code",
   "execution_count": 5,
   "metadata": {},
   "outputs": [
    {
     "name": "stdout",
     "output_type": "stream",
     "text": [
      "[1, 4, 9, 16]\n",
      "[1, 4, 9, 16]\n"
     ]
    }
   ],
   "source": [
    "numbers = [1,2,3,4]\n",
    "squares1 = []\n",
    "for x in numbers:\n",
    "    squares1.append(x**2)\n",
    "print(squares1)\n",
    "squares2 = [x**2 for x in numbers]\n",
    "print(squares2)"
   ]
  },
  {
   "cell_type": "code",
   "execution_count": 16,
   "metadata": {},
   "outputs": [
    {
     "name": "stdout",
     "output_type": "stream",
     "text": [
      "[4, 16, 36]\n"
     ]
    }
   ],
   "source": [
    "numbers = [1,2,3,4,5,6,7]\n",
    "even_numbers = []\n",
    "even_numbers = [x for x in numbers  if x % 2 == 0 ]\n",
    "print(even_numbers)"
   ]
  },
  {
   "cell_type": "markdown",
   "metadata": {},
   "source": [
    "# 넘파이(Numpy)\n",
    "#### python 리스트에는 배열에 실제 데이터의 주소가 담겨있음 (속도 느림)\n",
    "#### numpy 배열은 실제 데이터가 배열에 들어있음 (속도 빠름,대규모 연산 유용)"
   ]
  },
  {
   "cell_type": "code",
   "execution_count": 37,
   "metadata": {},
   "outputs": [
    {
     "name": "stdout",
     "output_type": "stream",
     "text": [
      "[[1 2 3]\n",
      " [4 5 6]\n",
      " [7 8 9]]\n",
      "[0 1 2 3 4 5 6 7 8 9]\n",
      "(3, 3)\n",
      "2\n",
      "[[1 2 3 4 5 6 7 8 9]]\n"
     ]
    }
   ],
   "source": [
    "import numpy as np\n",
    "list = [[1,2,3],[4,5,6],[7,8,9]]\n",
    "a = np.array(list)\n",
    "b = np.arange(0,10)\n",
    "print(a)\n",
    "print(b)\n",
    "print(a.shape)      #크기\n",
    "print(a.ndim)       #차원\n",
    "c = a.reshape(1,-1)\n",
    "print(c)"
   ]
  },
  {
   "cell_type": "markdown",
   "metadata": {},
   "source": [
    "### numpy 배열의 shape이 같다면 사칙연산 가능"
   ]
  },
  {
   "cell_type": "code",
   "execution_count": 39,
   "metadata": {},
   "outputs": [
    {
     "name": "stdout",
     "output_type": "stream",
     "text": [
      "[5 7 9]\n",
      "[-3 -3 -3]\n",
      "[ 4 10 18]\n",
      "[0.25 0.4  0.5 ]\n"
     ]
    }
   ],
   "source": [
    "a = np.array([1,2,3])\n",
    "b = np.array([4,5,6])\n",
    "print(a + b)\n",
    "print(a - b)\n",
    "print(a * b)\n",
    "print(a / b)"
   ]
  },
  {
   "cell_type": "code",
   "execution_count": 50,
   "metadata": {},
   "outputs": [
    {
     "name": "stdout",
     "output_type": "stream",
     "text": [
      "[[0. 0. 0.]\n",
      " [0. 0. 0.]\n",
      " [0. 0. 0.]]\n",
      "[[1. 1. 1.]\n",
      " [1. 1. 1.]\n",
      " [1. 1. 1.]]\n",
      "[[1. 0. 0.]\n",
      " [0. 1. 0.]\n",
      " [0. 0. 1.]]\n"
     ]
    }
   ],
   "source": [
    "a = np.zeros([3,3])\n",
    "b = np.ones([3,3])\n",
    "c = np.eye(3)\n",
    "print(a); print(b); print(c)"
   ]
  },
  {
   "cell_type": "code",
   "execution_count": 54,
   "metadata": {},
   "outputs": [
    {
     "name": "stdout",
     "output_type": "stream",
     "text": [
      "['1' '2' '3']\n",
      "[1.  2.2 3. ]\n",
      "(3,)\n",
      "(3,)\n",
      "<class 'numpy.ndarray'>\n",
      "<class 'numpy.ndarray'>\n"
     ]
    }
   ],
   "source": [
    "list_data_1 = [1,'2',3]\n",
    "list_data_2 = [1, 2, 3]\n",
    "arr_1 = np.array(list_data_1)\n",
    "arr_2 = np.array(list_data_2)\n",
    "print(arr_1)\n",
    "print(arr_2)\n",
    "print(arr_1.shape)\n",
    "print(arr_2.shape)\n",
    "print(type(arr_1))\n",
    "print(type(arr_2))"
   ]
  },
  {
   "cell_type": "code",
   "execution_count": 59,
   "metadata": {},
   "outputs": [
    {
     "data": {
      "text/plain": [
       "array([[0, 0, 0, 0],\n",
       "       [0, 0, 0, 0]])"
      ]
     },
     "execution_count": 59,
     "metadata": {},
     "output_type": "execute_result"
    }
   ],
   "source": [
    "np.zeros([2,4],dtype = int)"
   ]
  },
  {
   "cell_type": "code",
   "execution_count": 84,
   "metadata": {},
   "outputs": [
    {
     "name": "stdout",
     "output_type": "stream",
     "text": [
      "[[[ 1  2  3  4]\n",
      "  [ 5  6  7  8]]\n",
      "\n",
      " [[ 9 10 11 12]\n",
      "  [13 14 15 16]]\n",
      "\n",
      " [[17 18 19 20]\n",
      "  [21 22 23 24]]]\n",
      "3\n",
      "(3, 2, 4)\n",
      "\n",
      "\n",
      "[[[ 1  2  3  4  5  6  7  8  9 10 11 12]\n",
      "  [13 14 15 16 17 18 19 20 21 22 23 24]]]\n"
     ]
    }
   ],
   "source": [
    "arr = np.array([[[1,2,3,4],[5,6,7,8]],[[9,10,11,12],[13,14,15,16]],[[17,18,19,20],[21,22,23,24]]])\n",
    "print(arr)\n",
    "print(arr.ndim)\n",
    "print(arr.shape)\n",
    "print('\\n')\n",
    "arr = np.reshape(arr,(1,2,-1))\n",
    "print(arr)"
   ]
  },
  {
   "cell_type": "code",
   "execution_count": 86,
   "metadata": {},
   "outputs": [
    {
     "name": "stdout",
     "output_type": "stream",
     "text": [
      "[1, 2, 3, 1, 2, 3, 1, 2, 3]\n",
      "[3 6 9]\n"
     ]
    }
   ],
   "source": [
    "a = [1,2,3]\n",
    "b = np.array([1,2,3])\n",
    "print(a*3)\n",
    "print(b*3)"
   ]
  },
  {
   "cell_type": "code",
   "execution_count": 102,
   "metadata": {},
   "outputs": [
    {
     "name": "stdout",
     "output_type": "stream",
     "text": [
      "[0, 2, 4, 6, 8, 10, 12, 14, 16, 18]\n",
      "[0, 2, 4, 6, 8, 10, 12, 14, 16, 18]\n",
      "[ 0  2  4  6  8 10 12 14 16 18]\n",
      "1 3 10\n",
      "3 (1, 3, 10) 30\n"
     ]
    }
   ],
   "source": [
    "###################리스트 for문 사용###############\n",
    "data_1 = [[[0,1,2,3,4,5,6,7,8,9],[[0,1,2,3,4,5,6,7,8,9]],[0,1,2,3,4,5,6,7,8,9]]]\n",
    "data_2 = np.array([[[0,1,2,3,4,5,6,7,8,9],[0,1,2,3,4,5,6,7,8,9],[0,1,2,3,4,5,6,7,8,9]]])\n",
    "data = [0,1,2,3,4,5,6,7,8,9]\n",
    "a = []\n",
    "for i in data:\n",
    "    a.append(i*2)\n",
    "print(a)\n",
    "###################리스트 컴프리헨션 사용###############\n",
    "li = [i*2 for i in data]\n",
    "print(li)\n",
    "###################array 사용###############\n",
    "arr = np.array(data)\n",
    "print(arr*2)\n",
    "\n",
    "print(len(data_1),len(data_1[0]),len(data_1[0][0]))\n",
    "print(data_2.ndim,data_2.shape,data_2.size)"
   ]
  },
  {
   "cell_type": "code",
   "execution_count": 109,
   "metadata": {},
   "outputs": [
    {
     "name": "stdout",
     "output_type": "stream",
     "text": [
      "2\n",
      "4 \n",
      "\n",
      "0\n",
      "1\n",
      "5\n"
     ]
    }
   ],
   "source": [
    "a = np.array([0,1,2,3,4])\n",
    "print(a[2])\n",
    "print(a[-1],'\\n')\n",
    "b = np.array([[0,1,2],[3,4,5]])\n",
    "print(b[0, 0])\n",
    "print(b[0, 1])\n",
    "print(b[1, -1])"
   ]
  },
  {
   "cell_type": "code",
   "execution_count": 122,
   "metadata": {},
   "outputs": [
    {
     "name": "stdout",
     "output_type": "stream",
     "text": [
      "\n",
      "[5 6 7]\n",
      "[[0 1]\n",
      " [4 5]]\n"
     ]
    }
   ],
   "source": [
    "a = np.array([[0,1,2,3],[4,5,6,7]])\n",
    "print()\n",
    "print(a[1,1:])\n",
    "print(a[ :2, :2])"
   ]
  },
  {
   "cell_type": "code",
   "execution_count": 128,
   "metadata": {},
   "outputs": [
    {
     "name": "stdout",
     "output_type": "stream",
     "text": [
      "[12 24 36]\n",
      "[False  True False]\n",
      "[False  True  True]\n",
      "[False  True False]\n"
     ]
    }
   ],
   "source": [
    "a = np.array([1,2,3])\n",
    "b = np.array([10,20,30])\n",
    "print(2*a+b)\n",
    "print(a == 2)\n",
    "print(b > 10)\n",
    "print((a == 2) & (b > 10))"
   ]
  },
  {
   "cell_type": "markdown",
   "metadata": {},
   "source": [
    "## 팬시 인덱싱(fancy indexing)\n",
    "#### 대괄호 '[]' 안의 인덱스 정보로 숫자나 슬라이스가 아니라 위치 정보를 나타내는 또 다른 ndarray 배열을 받을 수 있음\n",
    "#### 1. 불리언(Boolean) 배열 방식\n"
   ]
  },
  {
   "cell_type": "code",
   "execution_count": 132,
   "metadata": {},
   "outputs": [
    {
     "name": "stdout",
     "output_type": "stream",
     "text": [
      "[0 2 4 6 8]\n"
     ]
    }
   ],
   "source": [
    "a = np.array([0,1,2,3,4,5,6,7,8,9])\n",
    "idx = np.array([True,False,True,False,True,\n",
    "                False,True,False,True,False])\n",
    "print(a[idx])"
   ]
  },
  {
   "cell_type": "code",
   "execution_count": 141,
   "metadata": {},
   "outputs": [
    {
     "name": "stdout",
     "output_type": "stream",
     "text": [
      "[ True False  True False  True False  True False  True False]\n",
      "[0 2 4 6 8]\n",
      "[0 2 4 6 8]\n"
     ]
    }
   ],
   "source": [
    "a = np.array([0,1,2,3,4,5,6,7,8,9])\n",
    "print(a % 2 == 0)\n",
    "b = a % 2 == 0\n",
    "print(a[a % 2 == 0])\n",
    "print(a[b])"
   ]
  },
  {
   "cell_type": "markdown",
   "metadata": {},
   "source": [
    "#### 2. 정수 배열 방식"
   ]
  },
  {
   "cell_type": "code",
   "execution_count": 142,
   "metadata": {},
   "outputs": [
    {
     "name": "stdout",
     "output_type": "stream",
     "text": [
      "[11 33 55 77 99]\n"
     ]
    }
   ],
   "source": [
    "a = np.array([11,22,33,44,55,66,77,88,99])\n",
    "idx = np.array([0,2,4,6,8])\n",
    "print(a[idx])"
   ]
  },
  {
   "cell_type": "code",
   "execution_count": null,
   "metadata": {},
   "outputs": [],
   "source": []
  }
 ],
 "metadata": {
  "kernelspec": {
   "display_name": "Python 3",
   "language": "python",
   "name": "python3"
  },
  "language_info": {
   "codemirror_mode": {
    "name": "ipython",
    "version": 3
   },
   "file_extension": ".py",
   "mimetype": "text/x-python",
   "name": "python",
   "nbconvert_exporter": "python",
   "pygments_lexer": "ipython3",
   "version": "3.13.1"
  }
 },
 "nbformat": 4,
 "nbformat_minor": 2
}
