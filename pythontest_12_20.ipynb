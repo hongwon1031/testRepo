{
 "cells": [
  {
   "cell_type": "markdown",
   "metadata": {},
   "source": [
    "# 12/20일차"
   ]
  },
  {
   "cell_type": "markdown",
   "metadata": {},
   "source": [
    "### 19일차 복습"
   ]
  },
  {
   "cell_type": "code",
   "execution_count": 2,
   "metadata": {},
   "outputs": [
    {
     "name": "stdout",
     "output_type": "stream",
     "text": [
      "해리 님 안녕하세요?\n",
      "오늘로 11회 방문하셨어요\n"
     ]
    }
   ],
   "source": [
    "name = str(input('이름을 입력하세요: '))\n",
    "num = int(input('방문 횟수를 입력하세요: '))\n",
    "print(name,'님 안녕하세요?')\n",
    "print(f'오늘로 {num + 1}회 방문하셨어요')\n"
   ]
  },
  {
   "cell_type": "code",
   "execution_count": 4,
   "metadata": {},
   "outputs": [
    {
     "name": "stdout",
     "output_type": "stream",
     "text": [
      "성별은 남자 입니다\n",
      "출생년도는 95년도 10월 13일 입니다\n",
      "주민등록번호 뒷자리는 1234567 입니다\n"
     ]
    }
   ],
   "source": [
    "#성별, 출생년도, 월, 일, 생년월일, 주민등록번호 뒷자리 등 원하는 내용 잘라오기\n",
    "jumin = input('주민등록번호 입력')\n",
    "if int(jumin[7]) == 1 or 3:\n",
    "    print('성별은 남자 입니다')\n",
    "elif int(jumin[7]) == 2 or 4:\n",
    "    print('성별은 여자 입니다')\n",
    "else :\n",
    "    print('다시 입력하세요')\n",
    "print(f'출생년도는 {jumin[0:2]}년도 {jumin[2:4]}월 {jumin[4:6]}일 입니다')\n",
    "print('주민등록번호 뒷자리는',jumin[7:],'입니다')"
   ]
  },
  {
   "cell_type": "code",
   "execution_count": 8,
   "metadata": {},
   "outputs": [
    {
     "name": "stdout",
     "output_type": "stream",
     "text": [
      "역삼역 도어읽 로꾸거 역삼역 도어읽로으앞 .다니입 역삼역 ,역삼역 은역번이\n"
     ]
    }
   ],
   "source": [
    "string = '이번역은 역삼역, 역삼역 입니다. 앞으로읽어도 역삼역 거꾸로 읽어도 역삼역'\n",
    "print(string[-1::-1])"
   ]
  },
  {
   "cell_type": "code",
   "execution_count": 14,
   "metadata": {},
   "outputs": [
    {
     "name": "stdout",
     "output_type": "stream",
     "text": [
      "존재하지 않는 아이디입니다\n",
      "비밀번호 오류\n",
      "비밀번호 오류\n",
      "존재하지 않는 아이디입니다\n",
      "비밀번호 오류\n",
      "비밀번호 오류\n",
      "비밀번호 오류\n",
      "존재하지 않는 아이디입니다\n",
      "로그인 성공!\n"
     ]
    }
   ],
   "source": [
    "user_id = 'admin'\n",
    "user_pw = 1234\n",
    "\n",
    "\n",
    "while True:\n",
    "    id = input('아이디를 입력하세요')\n",
    "    pw = int(input('비밀번호를 입력하세요'))\n",
    "    \n",
    "    if id == user_id:\n",
    "        if pw == user_pw:\n",
    "            print('로그인 성공!')\n",
    "            break\n",
    "        else:\n",
    "            print('비밀번호 오류')\n",
    "    else : \n",
    "        print('존재하지 않는 아이디입니다')"
   ]
  },
  {
   "cell_type": "markdown",
   "metadata": {},
   "source": [
    "# While 반복문"
   ]
  },
  {
   "cell_type": "code",
   "execution_count": 24,
   "metadata": {},
   "outputs": [
    {
     "name": "stdout",
     "output_type": "stream",
     "text": [
      "1,2,3,4,5,6,7,8,9,10,11,12,13,14,15,16,17,18,19,20,반복문 종료\n"
     ]
    }
   ],
   "source": [
    "i = 0\n",
    "while i < 20:\n",
    "    i += 1\n",
    "    print(i,end=',')\n",
    "    \n",
    "    \n",
    "print('반복문 종료')"
   ]
  },
  {
   "cell_type": "markdown",
   "metadata": {},
   "source": [
    "### 시그마 구현"
   ]
  },
  {
   "cell_type": "code",
   "execution_count": 27,
   "metadata": {},
   "outputs": [
    {
     "name": "stdout",
     "output_type": "stream",
     "text": [
      "1부터 1000까지의 합은 500,500입니다\n"
     ]
    }
   ],
   "source": [
    "endValue = int(input('합을 원하는 정수값 입력: '))\n",
    "i = 0\n",
    "sum = 0\n",
    "while i <= endValue:\n",
    "    sum += i\n",
    "    i += 1\n",
    "print(f'1부터 {endValue}까지의 합은 {sum:,}입니다')\n"
   ]
  },
  {
   "cell_type": "markdown",
   "metadata": {},
   "source": [
    "### 팩토리얼"
   ]
  },
  {
   "cell_type": "code",
   "execution_count": null,
   "metadata": {},
   "outputs": [
    {
     "name": "stdout",
     "output_type": "stream",
     "text": [
      "1부터 4까지의 합은 24입니다\n"
     ]
    }
   ],
   "source": [
    "endValue = int(input('곱을 원하는 정수값 입력: '))\n",
    "\n",
    "i = 1\n",
    "mul = 1\n",
    "\n",
    "while i <= endValue:\n",
    "    \n",
    "    mul *= i\n",
    "    i += 1\n",
    "print(f'1부터 {endValue}까지의 합은 {mul:,}입니다')"
   ]
  },
  {
   "cell_type": "markdown",
   "metadata": {},
   "source": [
    "### 짝수의 합"
   ]
  },
  {
   "cell_type": "code",
   "execution_count": 32,
   "metadata": {},
   "outputs": [
    {
     "name": "stdout",
     "output_type": "stream",
     "text": [
      "1부터 10까지의 짝수의의 합은 30입니다\n"
     ]
    }
   ],
   "source": [
    "endValue = int(input('합을 원하는 정수값 입력: '))\n",
    "i = 0\n",
    "sum = 0\n",
    "while i <= endValue:\n",
    "    if i % 2 == 0:\n",
    "        sum += i\n",
    "    i += 1\n",
    "print(f'1부터 {endValue}까지의 짝수의 합은 {sum:,}입니다')\n"
   ]
  },
  {
   "cell_type": "code",
   "execution_count": 33,
   "metadata": {},
   "outputs": [
    {
     "name": "stdout",
     "output_type": "stream",
     "text": [
      "\n",
      "1. ADD\n",
      "2. Del\n",
      "3. Quit\n",
      "\n",
      "\n",
      "1. ADD\n",
      "2. Del\n",
      "3. Quit\n",
      "\n"
     ]
    }
   ],
   "source": [
    "prompt = '''\n",
    "1. ADD\n",
    "2. Del\n",
    "3. Quit\n",
    "\n",
    "Enter Number\n",
    "'''\n",
    "input_num = 0\n",
    "while input_num !=3:\n",
    "    print(prompt)\n",
    "    input_num = int(input())"
   ]
  },
  {
   "cell_type": "markdown",
   "metadata": {},
   "source": [
    "# for문"
   ]
  },
  {
   "cell_type": "code",
   "execution_count": 34,
   "metadata": {},
   "outputs": [
    {
     "name": "stdout",
     "output_type": "stream",
     "text": [
      "hello\n",
      "hello\n",
      "hello\n",
      "hello\n",
      "hello\n"
     ]
    }
   ],
   "source": [
    "for i in 'hello':\n",
    "    print('hello')"
   ]
  },
  {
   "cell_type": "code",
   "execution_count": 35,
   "metadata": {},
   "outputs": [
    {
     "name": "stdout",
     "output_type": "stream",
     "text": [
      "10\n",
      "9\n",
      "8\n",
      "7\n",
      "6\n",
      "5\n",
      "4\n",
      "3\n",
      "2\n",
      "1\n"
     ]
    }
   ],
   "source": [
    "for i in range(10,0,-1):\n",
    "    print(i)"
   ]
  },
  {
   "cell_type": "markdown",
   "metadata": {},
   "source": [
    "### for문을 활용한 시그마 구현"
   ]
  },
  {
   "cell_type": "code",
   "execution_count": 37,
   "metadata": {},
   "outputs": [
    {
     "name": "stdout",
     "output_type": "stream",
     "text": [
      "1부터 10까지의 합은 55입니다\n"
     ]
    }
   ],
   "source": [
    "endValue = int(input('합을 원하는 정수값 입력: '))\n",
    "\n",
    "sum = 0\n",
    "for i in range(0,endValue+1):\n",
    "    sum += i\n",
    "   \n",
    "print(f'1부터 {endValue}까지의 합은 {sum:,}입니다')\n"
   ]
  },
  {
   "cell_type": "markdown",
   "metadata": {},
   "source": [
    "### 구구단 구현 (for)"
   ]
  },
  {
   "cell_type": "code",
   "execution_count": 44,
   "metadata": {},
   "outputs": [
    {
     "name": "stdout",
     "output_type": "stream",
     "text": [
      "2 * 1 = 2 \n",
      "2 * 2 = 4 \n",
      "2 * 3 = 6 \n",
      "2 * 4 = 8 \n",
      "2 * 5 = 10 \n",
      "2 * 6 = 12 \n",
      "2 * 7 = 14 \n",
      "2 * 8 = 16 \n",
      "2 * 9 = 18 \n"
     ]
    }
   ],
   "source": [
    "dan = int(input('출력할 단 입력: '))\n",
    "\n",
    "print(f'*** {dan} 단 ***')\n",
    "for i in range(1,10):\n",
    "    print(f'{dan} * {i} = {i*dan} ')\n",
    "\n"
   ]
  },
  {
   "cell_type": "markdown",
   "metadata": {},
   "source": [
    "### 구구단 구현(while)"
   ]
  },
  {
   "cell_type": "code",
   "execution_count": 57,
   "metadata": {},
   "outputs": [
    {
     "name": "stdout",
     "output_type": "stream",
     "text": [
      "*** 2 단 ***\n",
      "2 * 1 =   2 \n",
      "2 * 2 =   4 \n",
      "2 * 3 =   6 \n",
      "2 * 4 =   8 \n",
      "2 * 5 =  10 \n",
      "2 * 6 =  12 \n",
      "2 * 7 =  14 \n",
      "2 * 8 =  16 \n",
      "2 * 9 =  18 \n"
     ]
    }
   ],
   "source": [
    "dan = int(input('출력할 단 입력: '))\n",
    "i = 1\n",
    "print(f'*** {dan} 단 ***')\n",
    "while i <= 9:\n",
    "    print(f'{dan} * {i} = {i*dan:3} ')\n",
    "    i += 1"
   ]
  },
  {
   "cell_type": "code",
   "execution_count": 58,
   "metadata": {},
   "outputs": [
    {
     "name": "stdout",
     "output_type": "stream",
     "text": [
      "\n",
      "\n",
      "2 * 1 =  2\t3 * 1 =  3\t4 * 1 =  4\t5 * 1 =  5\t6 * 1 =  6\t7 * 1 =  7\t8 * 1 =  8\t9 * 1 =  9\t\n",
      "\n",
      "2 * 2 =  4\t3 * 2 =  6\t4 * 2 =  8\t5 * 2 = 10\t6 * 2 = 12\t7 * 2 = 14\t8 * 2 = 16\t9 * 2 = 18\t\n",
      "\n",
      "2 * 3 =  6\t3 * 3 =  9\t4 * 3 = 12\t5 * 3 = 15\t6 * 3 = 18\t7 * 3 = 21\t8 * 3 = 24\t9 * 3 = 27\t\n",
      "\n",
      "2 * 4 =  8\t3 * 4 = 12\t4 * 4 = 16\t5 * 4 = 20\t6 * 4 = 24\t7 * 4 = 28\t8 * 4 = 32\t9 * 4 = 36\t\n",
      "\n",
      "2 * 5 = 10\t3 * 5 = 15\t4 * 5 = 20\t5 * 5 = 25\t6 * 5 = 30\t7 * 5 = 35\t8 * 5 = 40\t9 * 5 = 45\t\n",
      "\n",
      "2 * 6 = 12\t3 * 6 = 18\t4 * 6 = 24\t5 * 6 = 30\t6 * 6 = 36\t7 * 6 = 42\t8 * 6 = 48\t9 * 6 = 54\t\n",
      "\n",
      "2 * 7 = 14\t3 * 7 = 21\t4 * 7 = 28\t5 * 7 = 35\t6 * 7 = 42\t7 * 7 = 49\t8 * 7 = 56\t9 * 7 = 63\t\n",
      "\n",
      "2 * 8 = 16\t3 * 8 = 24\t4 * 8 = 32\t5 * 8 = 40\t6 * 8 = 48\t7 * 8 = 56\t8 * 8 = 64\t9 * 8 = 72\t\n",
      "\n",
      "2 * 9 = 18\t3 * 9 = 27\t4 * 9 = 36\t5 * 9 = 45\t6 * 9 = 54\t7 * 9 = 63\t8 * 9 = 72\t9 * 9 = 81\t"
     ]
    }
   ],
   "source": [
    "for i in range(1,10):\n",
    "    print('\\n')\n",
    "    for j in range(2,10):\n",
    "        print(f'{j} * {i} = {i*j:2}',end='\\t')"
   ]
  },
  {
   "cell_type": "markdown",
   "metadata": {},
   "source": [
    "### continue"
   ]
  },
  {
   "cell_type": "code",
   "execution_count": 65,
   "metadata": {},
   "outputs": [
    {
     "name": "stdout",
     "output_type": "stream",
     "text": [
      "1 3 5 7 9 \n",
      "\n",
      "5\n"
     ]
    }
   ],
   "source": [
    "sum = 0\n",
    "for i in range(1,11):\n",
    "    if i % 2 == 0:\n",
    "        continue\n",
    "    sum += 1\n",
    "    print(i,end=' ')\n",
    "print('\\n')\n",
    "print(sum)"
   ]
  },
  {
   "cell_type": "markdown",
   "metadata": {},
   "source": [
    "### 숫자 맞추기 게임"
   ]
  },
  {
   "cell_type": "code",
   "execution_count": 74,
   "metadata": {},
   "outputs": [
    {
     "name": "stdout",
     "output_type": "stream",
     "text": [
      "기회는 5번 남았습니다\n",
      "정답입니다\n",
      "1번만에 맞추셨습니다!\n",
      "입력한 값 : 1\n",
      "정답 : 1\n"
     ]
    }
   ],
   "source": [
    "import random\n",
    "ran_num = random.randint(1,10)\n",
    "i = 5\n",
    "while True:\n",
    "    if i == 0:\n",
    "        print('기회 종료')\n",
    "        print(f'정답은 {ran_num} 입니다')\n",
    "        break\n",
    "    print(f'기회는 {i}번 남았습니다')\n",
    "    num = int(input('1부터 100 사이의 숫자를 맞춰주세요'))\n",
    "    if (0 > num ) or (10 < num):\n",
    "        print('1 ~ 10 사이의 값을 입력하세요')\n",
    "    else:\n",
    "        if num == ran_num:\n",
    "            print('정답입니다')\n",
    "            print(f'{6-i}번만에 맞추셨습니다!')\n",
    "            print(f'입력한 값 : {num}')\n",
    "            print(f'정답 : {ran_num}')\n",
    "            break\n",
    "        elif num > ran_num:\n",
    "            print('너무 커요')\n",
    "            i -= 1\n",
    "        elif num < ran_num:\n",
    "            print('너무 작아요')\n",
    "            i -= 1\n",
    "        "
   ]
  },
  {
   "cell_type": "code",
   "execution_count": 83,
   "metadata": {},
   "outputs": [
    {
     "name": "stdout",
     "output_type": "stream",
     "text": [
      "1 2 4 7 8 11 13 14 16 17 19 "
     ]
    }
   ],
   "source": [
    "#20보다 작은 정수 중에서 3의 배수와 5의 배수를 제외하고 출력\n",
    "x = 0\n",
    "while True:\n",
    "    x += 1\n",
    "    if x == 20:\n",
    "        break   \n",
    "    \n",
    "    if (x % 3 == 0) or (x % 5 == 0):\n",
    "        continue\n",
    "    else:\n",
    "        print(x,end=' ')\n",
    "    \n",
    "     \n"
   ]
  },
  {
   "cell_type": "code",
   "execution_count": null,
   "metadata": {},
   "outputs": [],
   "source": [
    "``"
   ]
  }
 ],
 "metadata": {
  "kernelspec": {
   "display_name": "Python 3",
   "language": "python",
   "name": "python3"
  },
  "language_info": {
   "codemirror_mode": {
    "name": "ipython",
    "version": 3
   },
   "file_extension": ".py",
   "mimetype": "text/x-python",
   "name": "python",
   "nbconvert_exporter": "python",
   "pygments_lexer": "ipython3",
   "version": "3.13.1"
  }
 },
 "nbformat": 4,
 "nbformat_minor": 2
}
