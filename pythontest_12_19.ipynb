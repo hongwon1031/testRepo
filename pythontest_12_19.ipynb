{
 "cells": [
  {
   "cell_type": "markdown",
   "metadata": {},
   "source": [
    "# 2024 - 12 - 19"
   ]
  },
  {
   "cell_type": "markdown",
   "metadata": {},
   "source": [
    "### 파이썬 기본 문법"
   ]
  },
  {
   "cell_type": "code",
   "execution_count": 1,
   "metadata": {},
   "outputs": [
    {
     "name": "stdout",
     "output_type": "stream",
     "text": [
      "Hello Python\n"
     ]
    }
   ],
   "source": [
    "print('Hello Python')"
   ]
  },
  {
   "cell_type": "code",
   "execution_count": 4,
   "metadata": {},
   "outputs": [
    {
     "name": "stdout",
     "output_type": "stream",
     "text": [
      "1\n",
      "2\n",
      "3\n"
     ]
    }
   ],
   "source": [
    "print(1)\n",
    "print(2)\n",
    "print(3)"
   ]
  },
  {
   "cell_type": "code",
   "execution_count": 5,
   "metadata": {},
   "outputs": [
    {
     "name": "stdout",
     "output_type": "stream",
     "text": [
      "1\n",
      "2\n",
      "3\n"
     ]
    }
   ],
   "source": [
    "print('1')\n",
    "print('2')\n",
    "print('3')"
   ]
  },
  {
   "cell_type": "code",
   "execution_count": 7,
   "metadata": {},
   "outputs": [
    {
     "name": "stdout",
     "output_type": "stream",
     "text": [
      "3\n",
      "5\n",
      "7\n"
     ]
    }
   ],
   "source": [
    "print(1+2)\n",
    "print(2+3)\n",
    "print(3+4)"
   ]
  },
  {
   "cell_type": "code",
   "execution_count": 9,
   "metadata": {},
   "outputs": [
    {
     "data": {
      "text/plain": [
       "7"
      ]
     },
     "execution_count": 9,
     "metadata": {},
     "output_type": "execute_result"
    }
   ],
   "source": [
    "1+2\n",
    "2+3\n",
    "3+4"
   ]
  },
  {
   "cell_type": "code",
   "execution_count": 18,
   "metadata": {},
   "outputs": [
    {
     "name": "stdout",
     "output_type": "stream",
     "text": [
      "Hello\n",
      "Python\n",
      "홍길동 나이 = 20 세\n",
      "홍길동 나이 =  20 세\n"
     ]
    }
   ],
   "source": [
    "# print문 연습중입니다\n",
    "print(\"Hello\")\n",
    "print('Python')\n",
    "print('홍길동 나이 = %d 세'% 20)\n",
    "print('홍길동', '나이 = ', 20 ,'세')\n"
   ]
  },
  {
   "cell_type": "code",
   "execution_count": 19,
   "metadata": {},
   "outputs": [
    {
     "name": "stdout",
     "output_type": "stream",
     "text": [
      "Hello \n",
      "Python\n",
      "Nice       to meet you\n"
     ]
    }
   ],
   "source": [
    "print('Hello '); print('Python')\n",
    "\n",
    "print('Nice \\\n",
    "      to meet you')"
   ]
  },
  {
   "cell_type": "code",
   "execution_count": 24,
   "metadata": {},
   "outputs": [
    {
     "name": "stdout",
     "output_type": "stream",
     "text": [
      "HiPython\n"
     ]
    }
   ],
   "source": [
    "print('Hi', 'Python', sep='')\n"
   ]
  },
  {
   "cell_type": "code",
   "execution_count": 25,
   "metadata": {},
   "outputs": [
    {
     "name": "stdout",
     "output_type": "stream",
     "text": [
      "HiPython\n"
     ]
    }
   ],
   "source": [
    "print('Hi', end='')\n",
    "print('Python')"
   ]
  },
  {
   "cell_type": "markdown",
   "metadata": {},
   "source": [
    "### 변수"
   ]
  },
  {
   "cell_type": "code",
   "execution_count": 26,
   "metadata": {},
   "outputs": [
    {
     "name": "stdout",
     "output_type": "stream",
     "text": [
      "홍길동 나이 =  25 세\n"
     ]
    }
   ],
   "source": [
    "name = '홍길동'\n",
    "age = 25\n",
    "print(name,'나이 = ',age,'세')"
   ]
  },
  {
   "cell_type": "code",
   "execution_count": 27,
   "metadata": {},
   "outputs": [
    {
     "data": {
      "text/plain": [
       "['False',\n",
       " 'None',\n",
       " 'True',\n",
       " 'and',\n",
       " 'as',\n",
       " 'assert',\n",
       " 'async',\n",
       " 'await',\n",
       " 'break',\n",
       " 'class',\n",
       " 'continue',\n",
       " 'def',\n",
       " 'del',\n",
       " 'elif',\n",
       " 'else',\n",
       " 'except',\n",
       " 'finally',\n",
       " 'for',\n",
       " 'from',\n",
       " 'global',\n",
       " 'if',\n",
       " 'import',\n",
       " 'in',\n",
       " 'is',\n",
       " 'lambda',\n",
       " 'nonlocal',\n",
       " 'not',\n",
       " 'or',\n",
       " 'pass',\n",
       " 'raise',\n",
       " 'return',\n",
       " 'try',\n",
       " 'while',\n",
       " 'with',\n",
       " 'yield']"
      ]
     },
     "execution_count": 27,
     "metadata": {},
     "output_type": "execute_result"
    }
   ],
   "source": [
    "import keyword as k\n",
    "k.kwlist"
   ]
  },
  {
   "cell_type": "code",
   "execution_count": 29,
   "metadata": {},
   "outputs": [
    {
     "name": "stdout",
     "output_type": "stream",
     "text": [
      "<class 'str'>\n",
      "<class 'int'>\n"
     ]
    }
   ],
   "source": [
    "print(type(name))\n",
    "print(type(age))"
   ]
  },
  {
   "cell_type": "code",
   "execution_count": 37,
   "metadata": {},
   "outputs": [
    {
     "name": "stdout",
     "output_type": "stream",
     "text": [
      "<class 'str'>\n",
      "True\n",
      "<class 'str'>\n"
     ]
    }
   ],
   "source": [
    "x = 'True'\n",
    "print(type(x))\n",
    "print(bool(x))\n",
    "print(type(x))"
   ]
  },
  {
   "cell_type": "code",
   "execution_count": 49,
   "metadata": {},
   "outputs": [
    {
     "name": "stdout",
     "output_type": "stream",
     "text": [
      "3 + 4 = 7\n",
      "3 - 4 = -1\n",
      "3 * 4 = 12\n",
      "3 / 4 = 0.750000\n",
      "3 // 4 = 0\n",
      "3 % 4 = 3\n"
     ]
    }
   ],
   "source": [
    "##미션\n",
    "a = 3\n",
    "b = 4\n",
    "# ToDo = 합, 차, 곱, 나눗셈, 몫, 나머지를 출력\n",
    "print('%d + %d = %d'%(a,b,a+b))\n",
    "print('%d - %d = %d'%(a,b,a-b))\n",
    "print('%d * %d = %d'%(a,b,a*b))\n",
    "print('%d / %d = %f'%(a,b,a/b))\n",
    "print('%d // %d = %d'%(a,b,a//b))\n",
    "print('%d %% %d = %d'%(a,b,a%b))"
   ]
  },
  {
   "cell_type": "code",
   "execution_count": 96,
   "metadata": {},
   "outputs": [
    {
     "name": "stdout",
     "output_type": "stream",
     "text": [
      "1\n",
      "2\n",
      "3\n",
      "4\n"
     ]
    }
   ],
   "source": [
    "n = 1234\n",
    "\n",
    "#ToDo\n",
    "d1 = n // 1000\n",
    "print(d1)\n",
    "d2 = n // 100 % 10\n",
    "print(d2)\n",
    "d3 = n // 10 % 100 % 10\n",
    "print(d3)\n",
    "d4 = n % 1000 % 100 % 10\n",
    "print(d4)"
   ]
  },
  {
   "cell_type": "code",
   "execution_count": 100,
   "metadata": {},
   "outputs": [
    {
     "name": "stdout",
     "output_type": "stream",
     "text": [
      "78\n",
      "12345600\n"
     ]
    }
   ],
   "source": [
    "#업그레이드미션 1\n",
    "pay = 12345678\n",
    "#100 미만 절사 처리\n",
    "pay1 = pay % 100\n",
    "print(pay1)\n",
    "pay = pay - pay1\n",
    "print(pay)"
   ]
  },
  {
   "cell_type": "code",
   "execution_count": 104,
   "metadata": {},
   "outputs": [
    {
     "name": "stdout",
     "output_type": "stream",
     "text": [
      "123\n",
      "4\n"
     ]
    }
   ],
   "source": [
    "#변수 a에 저장된 값의 b자리 값을 계산하여 변수 c에 저장하는 코드\n",
    "#예를 들어 a에 1234가 저장되어있고 b가 1인 경우 첫번째 자리값인 4가 c에 저장\n",
    "a = 1234\n",
    "b = 2\n",
    "b1 = a // (10**(b-1))\n",
    "print(b1)\n",
    "c = a - b1*10\n",
    "print(c)\n"
   ]
  },
  {
   "cell_type": "code",
   "execution_count": 106,
   "metadata": {},
   "outputs": [
    {
     "name": "stdout",
     "output_type": "stream",
     "text": [
      "True\n",
      "True\n",
      "False\n"
     ]
    }
   ],
   "source": [
    "print((3 < 5) and (3 > 0))\n",
    "print((4 < 7) or (5 > 8))\n",
    "print(not(5 < 9))"
   ]
  },
  {
   "cell_type": "code",
   "execution_count": 111,
   "metadata": {},
   "outputs": [
    {
     "name": "stdout",
     "output_type": "stream",
     "text": [
      "pythonhello\n",
      "pythonpythonpython\n",
      "6\n"
     ]
    }
   ],
   "source": [
    "head = 'python'\n",
    "tail = 'hello'\n",
    "print(head + tail)\n",
    "print(head*3)\n",
    "print(len(head))"
   ]
  },
  {
   "cell_type": "code",
   "execution_count": 112,
   "metadata": {},
   "outputs": [
    {
     "name": "stdout",
     "output_type": "stream",
     "text": [
      "17\n"
     ]
    }
   ],
   "source": [
    "samplestring = 'Life is too short'\n",
    "print(len(samplestring))\n"
   ]
  },
  {
   "cell_type": "code",
   "execution_count": 114,
   "metadata": {},
   "outputs": [
    {
     "name": "stdout",
     "output_type": "stream",
     "text": [
      "'낮말'은 새가 듣고 '밥말'은 라면 먹고싶다 \n"
     ]
    }
   ],
   "source": [
    "print('\\'낮말\\'은 새가 듣고 \\'밥말\\'은 라면 먹고싶다 ')"
   ]
  },
  {
   "cell_type": "code",
   "execution_count": 116,
   "metadata": {},
   "outputs": [
    {
     "name": "stdout",
     "output_type": "stream",
     "text": [
      "Life is too short\n"
     ]
    }
   ],
   "source": [
    "print(samplestring[8])"
   ]
  },
  {
   "cell_type": "code",
   "execution_count": 122,
   "metadata": {},
   "outputs": [
    {
     "name": "stdout",
     "output_type": "stream",
     "text": [
      "h\n"
     ]
    }
   ],
   "source": [
    "samplestring.find('h')\n",
    "print(samplestring[13])"
   ]
  },
  {
   "cell_type": "code",
   "execution_count": 123,
   "metadata": {},
   "outputs": [
    {
     "name": "stdout",
     "output_type": "stream",
     "text": [
      "too\n"
     ]
    }
   ],
   "source": [
    "print(samplestring[8:11])"
   ]
  },
  {
   "cell_type": "code",
   "execution_count": 127,
   "metadata": {},
   "outputs": [
    {
     "name": "stdout",
     "output_type": "stream",
     "text": [
      "t o o\n"
     ]
    }
   ],
   "source": [
    "print(samplestring[8],samplestring[9],samplestring[10])\n"
   ]
  },
  {
   "cell_type": "code",
   "execution_count": 130,
   "metadata": {},
   "outputs": [
    {
     "name": "stdout",
     "output_type": "stream",
     "text": [
      "is too short\n",
      "Lf stosot\n",
      "trohs oot si efi\n"
     ]
    }
   ],
   "source": [
    "print(samplestring[5:])\n",
    "print(samplestring[0::2])\n",
    "print(samplestring[-1:0:-1])\n"
   ]
  },
  {
   "cell_type": "code",
   "execution_count": 146,
   "metadata": {},
   "outputs": [
    {
     "name": "stdout",
     "output_type": "stream",
     "text": [
      "she is too shy "
     ]
    }
   ],
   "source": [
    "samplestring = 'Life is too short, You need Python'\n",
    "print(samplestring[12:14],samplestring[24],sep='',end=' ')\n",
    "print(samplestring[5:7],end=' ')\n",
    "print(samplestring[8:11],end=' ')\n",
    "print(samplestring[12:14],samplestring[29],sep='',end=' ')"
   ]
  },
  {
   "cell_type": "code",
   "execution_count": 147,
   "metadata": {},
   "outputs": [
    {
     "name": "stdout",
     "output_type": "stream",
     "text": [
      "당신의 이름은 윤홍원 입니다\n"
     ]
    }
   ],
   "source": [
    "name = input('이름 입력해')\n",
    "print('당신의 이름은 %s 입니다'%name)"
   ]
  },
  {
   "cell_type": "code",
   "execution_count": 159,
   "metadata": {},
   "outputs": [
    {
     "name": "stdout",
     "output_type": "stream",
     "text": [
      "1\n",
      "23\n",
      "24\n"
     ]
    }
   ],
   "source": [
    "#사용자로부터 두개의 정수를 입력받아서 덧셈을 출력하는 프로그램 만들기\n",
    "a = int(input('첫번째 정수를 입력'))\n",
    "b = int(input('두번째 정수를 입력'))\n",
    "print(a)\n",
    "print(b)\n",
    "print(a+b)"
   ]
  },
  {
   "cell_type": "code",
   "execution_count": 160,
   "metadata": {},
   "outputs": [
    {
     "name": "stdout",
     "output_type": "stream",
     "text": [
      "2\n",
      "10\n",
      "삼각형의 넓이는 10.000000 이다\n"
     ]
    }
   ],
   "source": [
    "h = int(input('삼각형의 높이 입력'))\n",
    "w = int(input('삼각형의 밑변 입력'))\n",
    "print(h)\n",
    "print(w)\n",
    "print('삼각형의 넓이는 %f 이다' %(h*w/2))\n"
   ]
  },
  {
   "cell_type": "code",
   "execution_count": 163,
   "metadata": {},
   "outputs": [
    {
     "name": "stdout",
     "output_type": "stream",
     "text": [
      "김밥 :  2 개\n",
      "떡볶이 :  1 개\n",
      "라면 :  2 개\n",
      "지불하실 금액은 14500 입니다\n"
     ]
    }
   ],
   "source": [
    "gimbap = int(input('김밥 : '))\n",
    "print('김밥 : ',gimbap,'개')\n",
    "tte = int(input('떡볶이 : '))\n",
    "print('떡볶이 : ',tte,'개')\n",
    "ram = int(input('라면 : '))\n",
    "print('라면 : ',ram,'개')\n",
    "gim_price = 3000*gimbap\n",
    "tte_price = 3500*tte\n",
    "ram_price = 2500*ram\n",
    "\n",
    "print('지불하실 금액은',(gim_price + tte_price + ram_price),'입니다')\n"
   ]
  },
  {
   "cell_type": "code",
   "execution_count": 167,
   "metadata": {},
   "outputs": [
    {
     "name": "stdout",
     "output_type": "stream",
     "text": [
      "1 6\n"
     ]
    }
   ],
   "source": [
    "a,b = map(int,input('두개 숫자 입력').split(','))\n",
    "print(a,b)"
   ]
  },
  {
   "cell_type": "code",
   "execution_count": 171,
   "metadata": {},
   "outputs": [
    {
     "name": "stdout",
     "output_type": "stream",
     "text": [
      "100.00 * 1000.00 = 100,000.00\n"
     ]
    }
   ],
   "source": [
    "a = float(input('첫 번째 값 입력'))\n",
    "b = float(input('두 번째 값 입력'))\n",
    "print(f'{a:.2f} * {b:.2f} = {a*b:,.2f}')"
   ]
  },
  {
   "cell_type": "code",
   "execution_count": 172,
   "metadata": {},
   "outputs": [
    {
     "name": "stdout",
     "output_type": "stream",
     "text": [
      "100.00 * 1000.00 = 100000.00\n"
     ]
    }
   ],
   "source": [
    "a = float(input('첫 번째 값 입력'))\n",
    "b = float(input('두 번째 값 입력'))\n",
    "print(f'{a:.2f} * {b:.2f} = {a*b:.2f}')"
   ]
  },
  {
   "cell_type": "code",
   "execution_count": 181,
   "metadata": {},
   "outputs": [
    {
     "name": "stdout",
     "output_type": "stream",
     "text": [
      "반지름 길이 : 261.3\n",
      "원의 넓이 : 1,640.7 ㎠\n",
      "원의 둘레 : 214,326.3㎠\n"
     ]
    }
   ],
   "source": [
    "#원의 둘레와 넓기 계싼\n",
    "#반지름 실수값 입력받기\n",
    "#소숫점 이하 1자리로 표시, 원의 넓이는 천단위 쉼표\n",
    "r = float(input('반지름 입력(cm) : '))\n",
    "print(f'반지름 길이 : {r:,.1f}')\n",
    "print(f'원의 넓이 : {2*3.14*r:,.1f} ㎠')\n",
    "print(f'원의 둘레 : {((r**2)*3.14):,.1f}㎠')\n"
   ]
  },
  {
   "cell_type": "code",
   "execution_count": 182,
   "metadata": {},
   "outputs": [
    {
     "name": "stdout",
     "output_type": "stream",
     "text": [
      "1000.1234 * 2000.456789 2000703.6453677625\n"
     ]
    }
   ],
   "source": [
    "a = float(1000.1234)\n",
    "b = float(2000.456789)\n",
    "print(f'{a} * {b} {a*b}')\n"
   ]
  },
  {
   "cell_type": "code",
   "execution_count": 183,
   "metadata": {},
   "outputs": [
    {
     "name": "stdout",
     "output_type": "stream",
     "text": [
      "<class 'str'>\n",
      "False\n"
     ]
    }
   ],
   "source": [
    "a = 'True'\n",
    "b = 'False'\n",
    "print(type(a))\n",
    "print(a == True)"
   ]
  },
  {
   "cell_type": "code",
   "execution_count": 186,
   "metadata": {},
   "outputs": [
    {
     "name": "stdout",
     "output_type": "stream",
     "text": [
      "맛있는거 먹기\n",
      "냠냠맛있다\n"
     ]
    }
   ],
   "source": [
    "money = 10 - 6\n",
    "if money:\n",
    "    print('맛있는거 먹기')\n",
    "else:\n",
    "    print('친구한테 얻어먹기')\n",
    "print('냠냠 맛있다')"
   ]
  },
  {
   "cell_type": "code",
   "execution_count": 7,
   "metadata": {},
   "outputs": [
    {
     "name": "stdout",
     "output_type": "stream",
     "text": [
      "3\n",
      "홀수입니다\n"
     ]
    }
   ],
   "source": [
    "num = int(input('숫자를 입력하세요: '))\n",
    "print(num)\n",
    "if num % 2 != 0:\n",
    "    print('홀수입니다')\n",
    "else:\n",
    "    print('짝수입니다')"
   ]
  },
  {
   "cell_type": "code",
   "execution_count": 8,
   "metadata": {},
   "outputs": [
    {
     "name": "stdout",
     "output_type": "stream",
     "text": [
      "B\n"
     ]
    }
   ],
   "source": [
    "num = int(input('점수를 입력하세요: '))\n",
    "if num >= 90:\n",
    "    print('A')\n",
    "elif num >= 80:\n",
    "    print('B')\n",
    "elif num >= 70:\n",
    "    print('C')\n",
    "elif num >= 60:\n",
    "    print('D')\n",
    "else:\n",
    "    print('F')"
   ]
  },
  {
   "cell_type": "code",
   "execution_count": 9,
   "metadata": {},
   "outputs": [
    {
     "name": "stdout",
     "output_type": "stream",
     "text": [
      "출생연도는 2000, 나이는 25 살 입니다\n",
      "월요일\n"
     ]
    }
   ],
   "source": [
    "year = int(input('출생 연도 끝자리 입력'))\n",
    "age = int(input('나이 입력:'))\n",
    "print('출생연도는 %d, 나이는 %d 살 입니다'%(year,age))\n",
    "if age >= 65:\n",
    "    print('언제든 구매 가능!')\n",
    "else:\n",
    "    if year == 1 or 6:\n",
    "        print('월요일')\n",
    "    elif year == 2 or 7:\n",
    "        print('화요일')\n",
    "    elif year == 3 or 8:\n",
    "        print('수요일')\n",
    "    elif year == 4 or 9:\n",
    "        print('목요일')\n",
    "    else:\n",
    "        print('금요일')"
   ]
  },
  {
   "cell_type": "code",
   "execution_count": 17,
   "metadata": {},
   "outputs": [
    {
     "name": "stdout",
     "output_type": "stream",
     "text": [
      "19\n",
      "2020\n",
      "홀수 차량 운행일입니다\n",
      "운행 불가능합니다\n"
     ]
    }
   ],
   "source": [
    "day = int(input('오늘은 몇 일?(입력 : 1 ~ 31) : '))\n",
    "num = input('차량번호 4자리 입력?(예 : 1234) : ')\n",
    "if day >= 32:\n",
    "    print('일(day) 입력 오류입니다.')\n",
    "else:\n",
    "    if len(num) != 4:\n",
    "        print('차량번호 입력 오류입니다')\n",
    "    else:\n",
    "        num = int(num)\n",
    "        print(day)\n",
    "        print(num)\n",
    "        if day % 2 == 1:\n",
    "            print('홀수 차량 운행일입니다')\n",
    "            if num % 2 == 1:\n",
    "                print('운행 가능합니다')\n",
    "            else:\n",
    "                print('운행 불가능합니다')\n",
    "        else:\n",
    "            print('짝수 차량 운행일입니다')\n",
    "            if num % 2 == 1:\n",
    "                print('운행 불가능합니다')\n",
    "            else:\n",
    "                print('운행 가능합니다')"
   ]
  },
  {
   "cell_type": "code",
   "execution_count": 18,
   "metadata": {},
   "outputs": [
    {
     "name": "stdout",
     "output_type": "stream",
     "text": [
      "1.85m\n",
      "75cm\n",
      "21.913805697589478\n",
      "BMI 지수는 21.91로 정상체중 입니다\n"
     ]
    }
   ],
   "source": [
    "#키와몸무게 입력, bmi 지수 계싼, 비만유무 출력\n",
    "#몸무게 / 신장 * 신장\n",
    "h = float(input('키 입력'))\n",
    "h *= 0.01\n",
    "print(h,'m',sep='')\n",
    "w = int(input('몸무게 입력'))\n",
    "print(w,'cm',sep='')\n",
    "\n",
    "bmi = w / h**2 \n",
    "\n",
    "print(bmi)\n",
    "if bmi < 18.5:\n",
    "    print('BMI 지수는 %.2f로 저체중 입니다'% bmi)\n",
    "elif 22.9 >= bmi >= 18.5: \n",
    "    print('BMI 지수는 %.2f로 정상체중 입니다'% bmi)\n",
    "elif 25 >= bmi >= 23: \n",
    "    print('BMI 지수는 %.2f로 과체중 입니다'% bmi) \n",
    "else:\n",
    "    print('BMI 지수는 %.2f로 비만만 입니다'% bmi) \n",
    "\n"
   ]
  },
  {
   "cell_type": "code",
   "execution_count": null,
   "metadata": {},
   "outputs": [
    {
     "name": "stdout",
     "output_type": "stream",
     "text": [
      "gofl 님 안녕하세요?\n",
      "오늘로 11회 방문하셨어요\n"
     ]
    }
   ],
   "source": []
  },
  {
   "cell_type": "code",
   "execution_count": null,
   "metadata": {},
   "outputs": [],
   "source": []
  }
 ],
 "metadata": {
  "kernelspec": {
   "display_name": "Python 3",
   "language": "python",
   "name": "python3"
  },
  "language_info": {
   "codemirror_mode": {
    "name": "ipython",
    "version": 3
   },
   "file_extension": ".py",
   "mimetype": "text/x-python",
   "name": "python",
   "nbconvert_exporter": "python",
   "pygments_lexer": "ipython3",
   "version": "3.13.1"
  }
 },
 "nbformat": 4,
 "nbformat_minor": 2
}
